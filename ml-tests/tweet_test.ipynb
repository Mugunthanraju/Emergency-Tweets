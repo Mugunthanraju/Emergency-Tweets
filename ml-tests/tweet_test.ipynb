{
 "cells": [
  {
   "cell_type": "code",
   "execution_count": 28,
   "metadata": {},
   "outputs": [],
   "source": [
    "import tweepy\n",
    "import config # For your API Keys and stuff\n",
    "import pprint"
   ]
  },
  {
   "cell_type": "code",
   "execution_count": 5,
   "metadata": {},
   "outputs": [],
   "source": [
    "auth = tweepy.OAuthHandler(config.consumer_key, config.consumer_secret)\n",
    "auth.set_access_token(config.access_token, config.access_token_secret)\n",
    "api = tweepy.API(auth)"
   ]
  },
  {
   "cell_type": "code",
   "execution_count": 15,
   "metadata": {},
   "outputs": [],
   "source": [
    "tweets = api.search(\"Mikail Durur\", count=10)"
   ]
  },
  {
   "cell_type": "code",
   "execution_count": 19,
   "metadata": {},
   "outputs": [
    {
     "name": "stdout",
     "output_type": "stream",
     "text": [
      "7451\n",
      "@SelenKrsn Durur tabi. Su yolunu bulur illaki. Mikail beyde yolunu bulur. Adam zeki. Zaten zeki insanlara hep gıpta ile bakmışımdır.\n"
     ]
    }
   ],
   "source": [
    "for tweet in tweets:\n",
    "    print(tweet.author.favourites_count)\n",
    "    print(tweet.text)"
   ]
  },
  {
   "cell_type": "code",
   "execution_count": null,
   "metadata": {},
   "outputs": [],
   "source": []
  },
  {
   "cell_type": "code",
   "execution_count": 162,
   "metadata": {},
   "outputs": [
    {
     "name": "stdout",
     "output_type": "stream",
     "text": [
      "CSW\n",
      "1221686648041177088\n",
      "Chicago\n",
      "1328961328246042624\n",
      "\n",
      "20\n",
      "Wade Herter\n",
      "1100210166727729152\n",
      "US MW Police\n",
      "1328458690001653764\n",
      "\n",
      "1\n",
      "Nina Florez\n",
      "769741582920712192\n",
      "Breaking News\n",
      "1328049155030323202\n",
      "\n",
      "13\n",
      "TheChicagoCrew\n",
      "1682597274\n",
      "Gov For The People\n",
      "1328003668726132737\n",
      "\n",
      "13\n",
      "Becca Snyder\n",
      "127782434\n",
      "local\n",
      "1326982253923209217\n",
      "\n",
      "27\n",
      "Ron Von Jon Smoot ™\n",
      "37071834\n",
      "Chicago\n",
      "1326394530225123329\n",
      "\n",
      "41\n",
      "Paul-Louis Gros\n",
      "333509039\n",
      "Chicago\n",
      "1325121251766009859\n",
      "\n",
      "8\n",
      "Alexander Boroff\n",
      "1156315970790658049\n",
      "Local Police Departments\n",
      "1324426737967603713\n",
      "\n",
      "33\n",
      "josephporcelli\n",
      "15265755\n",
      "State & Local\n",
      "1323755552149770240\n",
      "\n",
      "148\n",
      "Morgan Wirthlin\n",
      "406302280\n",
      "Chicago\n",
      "1323702136782442505\n",
      "\n",
      "58\n",
      "chede\n",
      "1400825858\n",
      "chi\n",
      "1323630651849977857\n",
      "\n",
      "3\n",
      "Gustaf Ragnar\n",
      "917794542916702212\n",
      "US City Police Monitor\n",
      "1323276711644061697\n",
      "\n",
      "19\n",
      "CIBC USA\n",
      "1322971848452251649\n",
      "Police-Fire-OEMC\n",
      "1323260043685486592\n",
      "law enforcement, fire departments, emergency mgmt.\n",
      "20\n",
      "Claire Joseph.\n",
      "122370584\n",
      "Chicago\n",
      "1323124523575685123\n",
      "\n",
      "16\n",
      "John Gleich\n",
      "88095738\n",
      "Chicago\n",
      "1322955375486947328\n",
      "\n",
      "219\n",
      "John Gleich\n",
      "88095738\n",
      "News\n",
      "1322953122231296000\n",
      "\n",
      "175\n",
      "Erin Ailworth\n",
      "17654451\n",
      "Election Day 2020\n",
      "1322247634392879107\n",
      "\n",
      "156\n",
      "Danny Chatfield\n",
      "544562269\n",
      "🚨United States 911🚨\n",
      "1321240350049079297\n",
      "\n",
      "212\n",
      "DK4373237\n",
      "1064699145825411072\n",
      "Chicago News\n",
      "1320105960715681793\n",
      "\n",
      "24\n",
      "smooth_thinker\n",
      "1278181664619986944\n",
      "Police\n",
      "1319471041643761672\n",
      "\n",
      "11\n"
     ]
    }
   ],
   "source": [
    "# lists = api.lists_all(\"EkremGuzelyel\")\n",
    "\n",
    "# lists = api.lists_all(\"hummmmmbaby\")\n",
    "lists = api.lists_memberships(\"Chicago_Police\")\n",
    "\n",
    "for lst in lists:\n",
    "#     print(pprint.pformat(lst))\n",
    "#     print(lst)\n",
    "    print(lst.user.name)\n",
    "    print(lst.user.id)\n",
    "    print(lst.name)\n",
    "    print(lst.id)\n",
    "#     if lst.name == \"Another Test\":\n",
    "#         members = api.list_members(list_id=lst.id)\n",
    "#         for member in members:\n",
    "#             print(member.name)\n",
    "#             print(member.followers)\n",
    "#         print(pprint.pformat())\n",
    "    print(lst.description)\n",
    "    print(lst.member_count)\n",
    "#     print(lst.members.)\n",
    "\n",
    "# api.lookup_friendships(\"\")"
   ]
  },
  {
   "cell_type": "code",
   "execution_count": 62,
   "metadata": {},
   "outputs": [
    {
     "data": {
      "text/plain": [
       "[]"
      ]
     },
     "execution_count": 62,
     "metadata": {},
     "output_type": "execute_result"
    }
   ],
   "source": [
    "api.saved_searches()\n",
    "# api.get_saved_search('2867005528')"
   ]
  },
  {
   "cell_type": "code",
   "execution_count": 85,
   "metadata": {
    "scrolled": true
   },
   "outputs": [
    {
     "data": {
      "text/plain": [
       "1250088072294715394"
      ]
     },
     "execution_count": 85,
     "metadata": {},
     "output_type": "execute_result"
    }
   ],
   "source": [
    "# person = \"CPD_Media\" # CPD_Media definitely wasn't the correct handle to look at\n",
    "# person_id = api.get_user(person)#.id_str\n",
    "person_id.id"
   ]
  },
  {
   "cell_type": "code",
   "execution_count": 79,
   "metadata": {},
   "outputs": [
    {
     "data": {
      "text/plain": [
       "'Chicago Police Communications & News Affairs'"
      ]
     },
     "execution_count": 79,
     "metadata": {},
     "output_type": "execute_result"
    }
   ],
   "source": [
    "api.get_user(person_id.id_str).name"
   ]
  },
  {
   "cell_type": "code",
   "execution_count": 95,
   "metadata": {
    "collapsed": true
   },
   "outputs": [
    {
     "data": {
      "text/plain": [
       "[Status(_api=<tweepy.api.API object at 0x10b693240>, _json={'created_at': 'Fri Nov 20 05:28:15 +0000 2020', 'id': 1329657787773837312, 'id_str': '1329657787773837312', 'text': '@EkremGuzelyel @MrBeastYT @michaelreeves @Davie504bass @MarkRober It could also show people who actually build data… https://t.co/sdwuQlrUsf', 'truncated': True, 'entities': {'hashtags': [], 'symbols': [], 'user_mentions': [{'screen_name': 'EkremGuzelyel', 'name': 'Ekrem Guzelyel', 'id': 2867005528, 'id_str': '2867005528', 'indices': [0, 14]}, {'screen_name': 'MrBeastYT', 'name': 'MrBeast', 'id': 2455740283, 'id_str': '2455740283', 'indices': [15, 25]}, {'screen_name': 'michaelreeves', 'name': 'Michael Reeves', 'id': 826288847562559488, 'id_str': '826288847562559488', 'indices': [26, 40]}, {'screen_name': 'Davie504bass', 'name': 'Davie504', 'id': 603899570, 'id_str': '603899570', 'indices': [41, 54]}, {'screen_name': 'MarkRober', 'name': 'Mark Rober', 'id': 490932793, 'id_str': '490932793', 'indices': [55, 65]}], 'urls': [{'url': 'https://t.co/sdwuQlrUsf', 'expanded_url': 'https://twitter.com/i/web/status/1329657787773837312', 'display_url': 'twitter.com/i/web/status/1…', 'indices': [117, 140]}]}, 'source': '<a href=\"http://twitter.com/download/iphone\" rel=\"nofollow\">Twitter for iPhone</a>', 'in_reply_to_status_id': 1329656899894202368, 'in_reply_to_status_id_str': '1329656899894202368', 'in_reply_to_user_id': 400703132, 'in_reply_to_user_id_str': '400703132', 'in_reply_to_screen_name': 'divyashie', 'user': {'id': 400703132, 'id_str': '400703132', 'name': 'Divya', 'screen_name': 'divyashie', 'location': 'West Chicago, IL', 'description': '\"Being human is given, keeping humanity is a choice\" 🌹', 'url': None, 'entities': {'description': {'urls': []}}, 'protected': False, 'followers_count': 141, 'friends_count': 719, 'listed_count': 0, 'created_at': 'Sat Oct 29 12:59:43 +0000 2011', 'favourites_count': 11214, 'utc_offset': None, 'time_zone': None, 'geo_enabled': True, 'verified': False, 'statuses_count': 798, 'lang': None, 'contributors_enabled': False, 'is_translator': False, 'is_translation_enabled': False, 'profile_background_color': '000000', 'profile_background_image_url': 'http://abs.twimg.com/images/themes/theme11/bg.gif', 'profile_background_image_url_https': 'https://abs.twimg.com/images/themes/theme11/bg.gif', 'profile_background_tile': False, 'profile_image_url': 'http://pbs.twimg.com/profile_images/1283636171516542976/zhHPQTXa_normal.jpg', 'profile_image_url_https': 'https://pbs.twimg.com/profile_images/1283636171516542976/zhHPQTXa_normal.jpg', 'profile_banner_url': 'https://pbs.twimg.com/profile_banners/400703132/1562378661', 'profile_link_color': 'E81C4F', 'profile_sidebar_border_color': '000000', 'profile_sidebar_fill_color': '000000', 'profile_text_color': '000000', 'profile_use_background_image': False, 'has_extended_profile': True, 'default_profile': False, 'default_profile_image': False, 'following': True, 'follow_request_sent': False, 'notifications': False, 'translator_type': 'none'}, 'geo': None, 'coordinates': None, 'place': {'id': '1d9a5370a355ab0c', 'url': 'https://api.twitter.com/1.1/geo/id/1d9a5370a355ab0c.json', 'place_type': 'city', 'name': 'Chicago', 'full_name': 'Chicago, IL', 'country_code': 'US', 'country': 'United States', 'contained_within': [], 'bounding_box': {'type': 'Polygon', 'coordinates': [[[-87.940033, 41.644102], [-87.523993, 41.644102], [-87.523993, 42.0230669], [-87.940033, 42.0230669]]]}, 'attributes': {}}, 'contributors': None, 'is_quote_status': False, 'retweet_count': 0, 'favorite_count': 0, 'favorited': False, 'retweeted': False, 'lang': 'en'}, created_at=datetime.datetime(2020, 11, 20, 5, 28, 15), id=1329657787773837312, id_str='1329657787773837312', text='@EkremGuzelyel @MrBeastYT @michaelreeves @Davie504bass @MarkRober It could also show people who actually build data… https://t.co/sdwuQlrUsf', truncated=True, entities={'hashtags': [], 'symbols': [], 'user_mentions': [{'screen_name': 'EkremGuzelyel', 'name': 'Ekrem Guzelyel', 'id': 2867005528, 'id_str': '2867005528', 'indices': [0, 14]}, {'screen_name': 'MrBeastYT', 'name': 'MrBeast', 'id': 2455740283, 'id_str': '2455740283', 'indices': [15, 25]}, {'screen_name': 'michaelreeves', 'name': 'Michael Reeves', 'id': 826288847562559488, 'id_str': '826288847562559488', 'indices': [26, 40]}, {'screen_name': 'Davie504bass', 'name': 'Davie504', 'id': 603899570, 'id_str': '603899570', 'indices': [41, 54]}, {'screen_name': 'MarkRober', 'name': 'Mark Rober', 'id': 490932793, 'id_str': '490932793', 'indices': [55, 65]}], 'urls': [{'url': 'https://t.co/sdwuQlrUsf', 'expanded_url': 'https://twitter.com/i/web/status/1329657787773837312', 'display_url': 'twitter.com/i/web/status/1…', 'indices': [117, 140]}]}, source='Twitter for iPhone', source_url='http://twitter.com/download/iphone', in_reply_to_status_id=1329656899894202368, in_reply_to_status_id_str='1329656899894202368', in_reply_to_user_id=400703132, in_reply_to_user_id_str='400703132', in_reply_to_screen_name='divyashie', author=User(_api=<tweepy.api.API object at 0x10b693240>, _json={'id': 400703132, 'id_str': '400703132', 'name': 'Divya', 'screen_name': 'divyashie', 'location': 'West Chicago, IL', 'description': '\"Being human is given, keeping humanity is a choice\" 🌹', 'url': None, 'entities': {'description': {'urls': []}}, 'protected': False, 'followers_count': 141, 'friends_count': 719, 'listed_count': 0, 'created_at': 'Sat Oct 29 12:59:43 +0000 2011', 'favourites_count': 11214, 'utc_offset': None, 'time_zone': None, 'geo_enabled': True, 'verified': False, 'statuses_count': 798, 'lang': None, 'contributors_enabled': False, 'is_translator': False, 'is_translation_enabled': False, 'profile_background_color': '000000', 'profile_background_image_url': 'http://abs.twimg.com/images/themes/theme11/bg.gif', 'profile_background_image_url_https': 'https://abs.twimg.com/images/themes/theme11/bg.gif', 'profile_background_tile': False, 'profile_image_url': 'http://pbs.twimg.com/profile_images/1283636171516542976/zhHPQTXa_normal.jpg', 'profile_image_url_https': 'https://pbs.twimg.com/profile_images/1283636171516542976/zhHPQTXa_normal.jpg', 'profile_banner_url': 'https://pbs.twimg.com/profile_banners/400703132/1562378661', 'profile_link_color': 'E81C4F', 'profile_sidebar_border_color': '000000', 'profile_sidebar_fill_color': '000000', 'profile_text_color': '000000', 'profile_use_background_image': False, 'has_extended_profile': True, 'default_profile': False, 'default_profile_image': False, 'following': True, 'follow_request_sent': False, 'notifications': False, 'translator_type': 'none'}, id=400703132, id_str='400703132', name='Divya', screen_name='divyashie', location='West Chicago, IL', description='\"Being human is given, keeping humanity is a choice\" 🌹', url=None, entities={'description': {'urls': []}}, protected=False, followers_count=141, friends_count=719, listed_count=0, created_at=datetime.datetime(2011, 10, 29, 12, 59, 43), favourites_count=11214, utc_offset=None, time_zone=None, geo_enabled=True, verified=False, statuses_count=798, lang=None, contributors_enabled=False, is_translator=False, is_translation_enabled=False, profile_background_color='000000', profile_background_image_url='http://abs.twimg.com/images/themes/theme11/bg.gif', profile_background_image_url_https='https://abs.twimg.com/images/themes/theme11/bg.gif', profile_background_tile=False, profile_image_url='http://pbs.twimg.com/profile_images/1283636171516542976/zhHPQTXa_normal.jpg', profile_image_url_https='https://pbs.twimg.com/profile_images/1283636171516542976/zhHPQTXa_normal.jpg', profile_banner_url='https://pbs.twimg.com/profile_banners/400703132/1562378661', profile_link_color='E81C4F', profile_sidebar_border_color='000000', profile_sidebar_fill_color='000000', profile_text_color='000000', profile_use_background_image=False, has_extended_profile=True, default_profile=False, default_profile_image=False, following=True, follow_request_sent=False, notifications=False, translator_type='none'), user=User(_api=<tweepy.api.API object at 0x10b693240>, _json={'id': 400703132, 'id_str': '400703132', 'name': 'Divya', 'screen_name': 'divyashie', 'location': 'West Chicago, IL', 'description': '\"Being human is given, keeping humanity is a choice\" 🌹', 'url': None, 'entities': {'description': {'urls': []}}, 'protected': False, 'followers_count': 141, 'friends_count': 719, 'listed_count': 0, 'created_at': 'Sat Oct 29 12:59:43 +0000 2011', 'favourites_count': 11214, 'utc_offset': None, 'time_zone': None, 'geo_enabled': True, 'verified': False, 'statuses_count': 798, 'lang': None, 'contributors_enabled': False, 'is_translator': False, 'is_translation_enabled': False, 'profile_background_color': '000000', 'profile_background_image_url': 'http://abs.twimg.com/images/themes/theme11/bg.gif', 'profile_background_image_url_https': 'https://abs.twimg.com/images/themes/theme11/bg.gif', 'profile_background_tile': False, 'profile_image_url': 'http://pbs.twimg.com/profile_images/1283636171516542976/zhHPQTXa_normal.jpg', 'profile_image_url_https': 'https://pbs.twimg.com/profile_images/1283636171516542976/zhHPQTXa_normal.jpg', 'profile_banner_url': 'https://pbs.twimg.com/profile_banners/400703132/1562378661', 'profile_link_color': 'E81C4F', 'profile_sidebar_border_color': '000000', 'profile_sidebar_fill_color': '000000', 'profile_text_color': '000000', 'profile_use_background_image': False, 'has_extended_profile': True, 'default_profile': False, 'default_profile_image': False, 'following': True, 'follow_request_sent': False, 'notifications': False, 'translator_type': 'none'}, id=400703132, id_str='400703132', name='Divya', screen_name='divyashie', location='West Chicago, IL', description='\"Being human is given, keeping humanity is a choice\" 🌹', url=None, entities={'description': {'urls': []}}, protected=False, followers_count=141, friends_count=719, listed_count=0, created_at=datetime.datetime(2011, 10, 29, 12, 59, 43), favourites_count=11214, utc_offset=None, time_zone=None, geo_enabled=True, verified=False, statuses_count=798, lang=None, contributors_enabled=False, is_translator=False, is_translation_enabled=False, profile_background_color='000000', profile_background_image_url='http://abs.twimg.com/images/themes/theme11/bg.gif', profile_background_image_url_https='https://abs.twimg.com/images/themes/theme11/bg.gif', profile_background_tile=False, profile_image_url='http://pbs.twimg.com/profile_images/1283636171516542976/zhHPQTXa_normal.jpg', profile_image_url_https='https://pbs.twimg.com/profile_images/1283636171516542976/zhHPQTXa_normal.jpg', profile_banner_url='https://pbs.twimg.com/profile_banners/400703132/1562378661', profile_link_color='E81C4F', profile_sidebar_border_color='000000', profile_sidebar_fill_color='000000', profile_text_color='000000', profile_use_background_image=False, has_extended_profile=True, default_profile=False, default_profile_image=False, following=True, follow_request_sent=False, notifications=False, translator_type='none'), geo=None, coordinates=None, place=Place(_api=<tweepy.api.API object at 0x10b693240>, id='1d9a5370a355ab0c', url='https://api.twitter.com/1.1/geo/id/1d9a5370a355ab0c.json', place_type='city', name='Chicago', full_name='Chicago, IL', country_code='US', country='United States', contained_within=[], bounding_box=BoundingBox(_api=<tweepy.api.API object at 0x10b693240>, type='Polygon', coordinates=[[[-87.940033, 41.644102], [-87.523993, 41.644102], [-87.523993, 42.0230669], [-87.940033, 42.0230669]]]), attributes={}), contributors=None, is_quote_status=False, retweet_count=0, favorite_count=0, favorited=False, retweeted=False, lang='en'),\n",
       " Status(_api=<tweepy.api.API object at 0x10b693240>, _json={'created_at': 'Fri Nov 20 05:24:43 +0000 2020', 'id': 1329656899894202368, 'id_str': '1329656899894202368', 'text': '@EkremGuzelyel @MrBeastYT @michaelreeves @Davie504bass @MarkRober Use Twitter api ads to suggest anyone tweeting ab… https://t.co/GSB71HtCqQ', 'truncated': True, 'entities': {'hashtags': [], 'symbols': [], 'user_mentions': [{'screen_name': 'EkremGuzelyel', 'name': 'Ekrem Guzelyel', 'id': 2867005528, 'id_str': '2867005528', 'indices': [0, 14]}, {'screen_name': 'MrBeastYT', 'name': 'MrBeast', 'id': 2455740283, 'id_str': '2455740283', 'indices': [15, 25]}, {'screen_name': 'michaelreeves', 'name': 'Michael Reeves', 'id': 826288847562559488, 'id_str': '826288847562559488', 'indices': [26, 40]}, {'screen_name': 'Davie504bass', 'name': 'Davie504', 'id': 603899570, 'id_str': '603899570', 'indices': [41, 54]}, {'screen_name': 'MarkRober', 'name': 'Mark Rober', 'id': 490932793, 'id_str': '490932793', 'indices': [55, 65]}], 'urls': [{'url': 'https://t.co/GSB71HtCqQ', 'expanded_url': 'https://twitter.com/i/web/status/1329656899894202368', 'display_url': 'twitter.com/i/web/status/1…', 'indices': [117, 140]}]}, 'source': '<a href=\"http://twitter.com/download/iphone\" rel=\"nofollow\">Twitter for iPhone</a>', 'in_reply_to_status_id': 1329650618076684288, 'in_reply_to_status_id_str': '1329650618076684288', 'in_reply_to_user_id': 2867005528, 'in_reply_to_user_id_str': '2867005528', 'in_reply_to_screen_name': 'EkremGuzelyel', 'user': {'id': 400703132, 'id_str': '400703132', 'name': 'Divya', 'screen_name': 'divyashie', 'location': 'West Chicago, IL', 'description': '\"Being human is given, keeping humanity is a choice\" 🌹', 'url': None, 'entities': {'description': {'urls': []}}, 'protected': False, 'followers_count': 141, 'friends_count': 719, 'listed_count': 0, 'created_at': 'Sat Oct 29 12:59:43 +0000 2011', 'favourites_count': 11214, 'utc_offset': None, 'time_zone': None, 'geo_enabled': True, 'verified': False, 'statuses_count': 798, 'lang': None, 'contributors_enabled': False, 'is_translator': False, 'is_translation_enabled': False, 'profile_background_color': '000000', 'profile_background_image_url': 'http://abs.twimg.com/images/themes/theme11/bg.gif', 'profile_background_image_url_https': 'https://abs.twimg.com/images/themes/theme11/bg.gif', 'profile_background_tile': False, 'profile_image_url': 'http://pbs.twimg.com/profile_images/1283636171516542976/zhHPQTXa_normal.jpg', 'profile_image_url_https': 'https://pbs.twimg.com/profile_images/1283636171516542976/zhHPQTXa_normal.jpg', 'profile_banner_url': 'https://pbs.twimg.com/profile_banners/400703132/1562378661', 'profile_link_color': 'E81C4F', 'profile_sidebar_border_color': '000000', 'profile_sidebar_fill_color': '000000', 'profile_text_color': '000000', 'profile_use_background_image': False, 'has_extended_profile': True, 'default_profile': False, 'default_profile_image': False, 'following': True, 'follow_request_sent': False, 'notifications': False, 'translator_type': 'none'}, 'geo': None, 'coordinates': None, 'place': None, 'contributors': None, 'is_quote_status': False, 'retweet_count': 0, 'favorite_count': 1, 'favorited': True, 'retweeted': False, 'lang': 'en'}, created_at=datetime.datetime(2020, 11, 20, 5, 24, 43), id=1329656899894202368, id_str='1329656899894202368', text='@EkremGuzelyel @MrBeastYT @michaelreeves @Davie504bass @MarkRober Use Twitter api ads to suggest anyone tweeting ab… https://t.co/GSB71HtCqQ', truncated=True, entities={'hashtags': [], 'symbols': [], 'user_mentions': [{'screen_name': 'EkremGuzelyel', 'name': 'Ekrem Guzelyel', 'id': 2867005528, 'id_str': '2867005528', 'indices': [0, 14]}, {'screen_name': 'MrBeastYT', 'name': 'MrBeast', 'id': 2455740283, 'id_str': '2455740283', 'indices': [15, 25]}, {'screen_name': 'michaelreeves', 'name': 'Michael Reeves', 'id': 826288847562559488, 'id_str': '826288847562559488', 'indices': [26, 40]}, {'screen_name': 'Davie504bass', 'name': 'Davie504', 'id': 603899570, 'id_str': '603899570', 'indices': [41, 54]}, {'screen_name': 'MarkRober', 'name': 'Mark Rober', 'id': 490932793, 'id_str': '490932793', 'indices': [55, 65]}], 'urls': [{'url': 'https://t.co/GSB71HtCqQ', 'expanded_url': 'https://twitter.com/i/web/status/1329656899894202368', 'display_url': 'twitter.com/i/web/status/1…', 'indices': [117, 140]}]}, source='Twitter for iPhone', source_url='http://twitter.com/download/iphone', in_reply_to_status_id=1329650618076684288, in_reply_to_status_id_str='1329650618076684288', in_reply_to_user_id=2867005528, in_reply_to_user_id_str='2867005528', in_reply_to_screen_name='EkremGuzelyel', author=User(_api=<tweepy.api.API object at 0x10b693240>, _json={'id': 400703132, 'id_str': '400703132', 'name': 'Divya', 'screen_name': 'divyashie', 'location': 'West Chicago, IL', 'description': '\"Being human is given, keeping humanity is a choice\" 🌹', 'url': None, 'entities': {'description': {'urls': []}}, 'protected': False, 'followers_count': 141, 'friends_count': 719, 'listed_count': 0, 'created_at': 'Sat Oct 29 12:59:43 +0000 2011', 'favourites_count': 11214, 'utc_offset': None, 'time_zone': None, 'geo_enabled': True, 'verified': False, 'statuses_count': 798, 'lang': None, 'contributors_enabled': False, 'is_translator': False, 'is_translation_enabled': False, 'profile_background_color': '000000', 'profile_background_image_url': 'http://abs.twimg.com/images/themes/theme11/bg.gif', 'profile_background_image_url_https': 'https://abs.twimg.com/images/themes/theme11/bg.gif', 'profile_background_tile': False, 'profile_image_url': 'http://pbs.twimg.com/profile_images/1283636171516542976/zhHPQTXa_normal.jpg', 'profile_image_url_https': 'https://pbs.twimg.com/profile_images/1283636171516542976/zhHPQTXa_normal.jpg', 'profile_banner_url': 'https://pbs.twimg.com/profile_banners/400703132/1562378661', 'profile_link_color': 'E81C4F', 'profile_sidebar_border_color': '000000', 'profile_sidebar_fill_color': '000000', 'profile_text_color': '000000', 'profile_use_background_image': False, 'has_extended_profile': True, 'default_profile': False, 'default_profile_image': False, 'following': True, 'follow_request_sent': False, 'notifications': False, 'translator_type': 'none'}, id=400703132, id_str='400703132', name='Divya', screen_name='divyashie', location='West Chicago, IL', description='\"Being human is given, keeping humanity is a choice\" 🌹', url=None, entities={'description': {'urls': []}}, protected=False, followers_count=141, friends_count=719, listed_count=0, created_at=datetime.datetime(2011, 10, 29, 12, 59, 43), favourites_count=11214, utc_offset=None, time_zone=None, geo_enabled=True, verified=False, statuses_count=798, lang=None, contributors_enabled=False, is_translator=False, is_translation_enabled=False, profile_background_color='000000', profile_background_image_url='http://abs.twimg.com/images/themes/theme11/bg.gif', profile_background_image_url_https='https://abs.twimg.com/images/themes/theme11/bg.gif', profile_background_tile=False, profile_image_url='http://pbs.twimg.com/profile_images/1283636171516542976/zhHPQTXa_normal.jpg', profile_image_url_https='https://pbs.twimg.com/profile_images/1283636171516542976/zhHPQTXa_normal.jpg', profile_banner_url='https://pbs.twimg.com/profile_banners/400703132/1562378661', profile_link_color='E81C4F', profile_sidebar_border_color='000000', profile_sidebar_fill_color='000000', profile_text_color='000000', profile_use_background_image=False, has_extended_profile=True, default_profile=False, default_profile_image=False, following=True, follow_request_sent=False, notifications=False, translator_type='none'), user=User(_api=<tweepy.api.API object at 0x10b693240>, _json={'id': 400703132, 'id_str': '400703132', 'name': 'Divya', 'screen_name': 'divyashie', 'location': 'West Chicago, IL', 'description': '\"Being human is given, keeping humanity is a choice\" 🌹', 'url': None, 'entities': {'description': {'urls': []}}, 'protected': False, 'followers_count': 141, 'friends_count': 719, 'listed_count': 0, 'created_at': 'Sat Oct 29 12:59:43 +0000 2011', 'favourites_count': 11214, 'utc_offset': None, 'time_zone': None, 'geo_enabled': True, 'verified': False, 'statuses_count': 798, 'lang': None, 'contributors_enabled': False, 'is_translator': False, 'is_translation_enabled': False, 'profile_background_color': '000000', 'profile_background_image_url': 'http://abs.twimg.com/images/themes/theme11/bg.gif', 'profile_background_image_url_https': 'https://abs.twimg.com/images/themes/theme11/bg.gif', 'profile_background_tile': False, 'profile_image_url': 'http://pbs.twimg.com/profile_images/1283636171516542976/zhHPQTXa_normal.jpg', 'profile_image_url_https': 'https://pbs.twimg.com/profile_images/1283636171516542976/zhHPQTXa_normal.jpg', 'profile_banner_url': 'https://pbs.twimg.com/profile_banners/400703132/1562378661', 'profile_link_color': 'E81C4F', 'profile_sidebar_border_color': '000000', 'profile_sidebar_fill_color': '000000', 'profile_text_color': '000000', 'profile_use_background_image': False, 'has_extended_profile': True, 'default_profile': False, 'default_profile_image': False, 'following': True, 'follow_request_sent': False, 'notifications': False, 'translator_type': 'none'}, id=400703132, id_str='400703132', name='Divya', screen_name='divyashie', location='West Chicago, IL', description='\"Being human is given, keeping humanity is a choice\" 🌹', url=None, entities={'description': {'urls': []}}, protected=False, followers_count=141, friends_count=719, listed_count=0, created_at=datetime.datetime(2011, 10, 29, 12, 59, 43), favourites_count=11214, utc_offset=None, time_zone=None, geo_enabled=True, verified=False, statuses_count=798, lang=None, contributors_enabled=False, is_translator=False, is_translation_enabled=False, profile_background_color='000000', profile_background_image_url='http://abs.twimg.com/images/themes/theme11/bg.gif', profile_background_image_url_https='https://abs.twimg.com/images/themes/theme11/bg.gif', profile_background_tile=False, profile_image_url='http://pbs.twimg.com/profile_images/1283636171516542976/zhHPQTXa_normal.jpg', profile_image_url_https='https://pbs.twimg.com/profile_images/1283636171516542976/zhHPQTXa_normal.jpg', profile_banner_url='https://pbs.twimg.com/profile_banners/400703132/1562378661', profile_link_color='E81C4F', profile_sidebar_border_color='000000', profile_sidebar_fill_color='000000', profile_text_color='000000', profile_use_background_image=False, has_extended_profile=True, default_profile=False, default_profile_image=False, following=True, follow_request_sent=False, notifications=False, translator_type='none'), geo=None, coordinates=None, place=None, contributors=None, is_quote_status=False, retweet_count=0, favorite_count=1, favorited=True, retweeted=False, lang='en'),\n",
       " Status(_api=<tweepy.api.API object at 0x10b693240>, _json={'created_at': 'Thu Oct 15 17:43:55 +0000 2020', 'id': 1316796964583944192, 'id_str': '1316796964583944192', 'text': '@EkremGuzelyel Okay! Is it 2 days conf? 👌🏽', 'truncated': False, 'entities': {'hashtags': [], 'symbols': [], 'user_mentions': [{'screen_name': 'EkremGuzelyel', 'name': 'Ekrem Guzelyel', 'id': 2867005528, 'id_str': '2867005528', 'indices': [0, 14]}], 'urls': []}, 'source': '<a href=\"http://twitter.com/download/iphone\" rel=\"nofollow\">Twitter for iPhone</a>', 'in_reply_to_status_id': 1316796799403921411, 'in_reply_to_status_id_str': '1316796799403921411', 'in_reply_to_user_id': 2867005528, 'in_reply_to_user_id_str': '2867005528', 'in_reply_to_screen_name': 'EkremGuzelyel', 'user': {'id': 400703132, 'id_str': '400703132', 'name': 'Divya', 'screen_name': 'divyashie', 'location': 'West Chicago, IL', 'description': '\"Being human is given, keeping humanity is a choice\" 🌹', 'url': None, 'entities': {'description': {'urls': []}}, 'protected': False, 'followers_count': 141, 'friends_count': 719, 'listed_count': 0, 'created_at': 'Sat Oct 29 12:59:43 +0000 2011', 'favourites_count': 11214, 'utc_offset': None, 'time_zone': None, 'geo_enabled': True, 'verified': False, 'statuses_count': 798, 'lang': None, 'contributors_enabled': False, 'is_translator': False, 'is_translation_enabled': False, 'profile_background_color': '000000', 'profile_background_image_url': 'http://abs.twimg.com/images/themes/theme11/bg.gif', 'profile_background_image_url_https': 'https://abs.twimg.com/images/themes/theme11/bg.gif', 'profile_background_tile': False, 'profile_image_url': 'http://pbs.twimg.com/profile_images/1283636171516542976/zhHPQTXa_normal.jpg', 'profile_image_url_https': 'https://pbs.twimg.com/profile_images/1283636171516542976/zhHPQTXa_normal.jpg', 'profile_banner_url': 'https://pbs.twimg.com/profile_banners/400703132/1562378661', 'profile_link_color': 'E81C4F', 'profile_sidebar_border_color': '000000', 'profile_sidebar_fill_color': '000000', 'profile_text_color': '000000', 'profile_use_background_image': False, 'has_extended_profile': True, 'default_profile': False, 'default_profile_image': False, 'following': True, 'follow_request_sent': False, 'notifications': False, 'translator_type': 'none'}, 'geo': None, 'coordinates': None, 'place': {'id': '1d9a5370a355ab0c', 'url': 'https://api.twitter.com/1.1/geo/id/1d9a5370a355ab0c.json', 'place_type': 'city', 'name': 'Chicago', 'full_name': 'Chicago, IL', 'country_code': 'US', 'country': 'United States', 'contained_within': [], 'bounding_box': {'type': 'Polygon', 'coordinates': [[[-87.940033, 41.644102], [-87.523993, 41.644102], [-87.523993, 42.0230669], [-87.940033, 42.0230669]]]}, 'attributes': {}}, 'contributors': None, 'is_quote_status': False, 'retweet_count': 0, 'favorite_count': 0, 'favorited': False, 'retweeted': False, 'lang': 'en'}, created_at=datetime.datetime(2020, 10, 15, 17, 43, 55), id=1316796964583944192, id_str='1316796964583944192', text='@EkremGuzelyel Okay! Is it 2 days conf? 👌🏽', truncated=False, entities={'hashtags': [], 'symbols': [], 'user_mentions': [{'screen_name': 'EkremGuzelyel', 'name': 'Ekrem Guzelyel', 'id': 2867005528, 'id_str': '2867005528', 'indices': [0, 14]}], 'urls': []}, source='Twitter for iPhone', source_url='http://twitter.com/download/iphone', in_reply_to_status_id=1316796799403921411, in_reply_to_status_id_str='1316796799403921411', in_reply_to_user_id=2867005528, in_reply_to_user_id_str='2867005528', in_reply_to_screen_name='EkremGuzelyel', author=User(_api=<tweepy.api.API object at 0x10b693240>, _json={'id': 400703132, 'id_str': '400703132', 'name': 'Divya', 'screen_name': 'divyashie', 'location': 'West Chicago, IL', 'description': '\"Being human is given, keeping humanity is a choice\" 🌹', 'url': None, 'entities': {'description': {'urls': []}}, 'protected': False, 'followers_count': 141, 'friends_count': 719, 'listed_count': 0, 'created_at': 'Sat Oct 29 12:59:43 +0000 2011', 'favourites_count': 11214, 'utc_offset': None, 'time_zone': None, 'geo_enabled': True, 'verified': False, 'statuses_count': 798, 'lang': None, 'contributors_enabled': False, 'is_translator': False, 'is_translation_enabled': False, 'profile_background_color': '000000', 'profile_background_image_url': 'http://abs.twimg.com/images/themes/theme11/bg.gif', 'profile_background_image_url_https': 'https://abs.twimg.com/images/themes/theme11/bg.gif', 'profile_background_tile': False, 'profile_image_url': 'http://pbs.twimg.com/profile_images/1283636171516542976/zhHPQTXa_normal.jpg', 'profile_image_url_https': 'https://pbs.twimg.com/profile_images/1283636171516542976/zhHPQTXa_normal.jpg', 'profile_banner_url': 'https://pbs.twimg.com/profile_banners/400703132/1562378661', 'profile_link_color': 'E81C4F', 'profile_sidebar_border_color': '000000', 'profile_sidebar_fill_color': '000000', 'profile_text_color': '000000', 'profile_use_background_image': False, 'has_extended_profile': True, 'default_profile': False, 'default_profile_image': False, 'following': True, 'follow_request_sent': False, 'notifications': False, 'translator_type': 'none'}, id=400703132, id_str='400703132', name='Divya', screen_name='divyashie', location='West Chicago, IL', description='\"Being human is given, keeping humanity is a choice\" 🌹', url=None, entities={'description': {'urls': []}}, protected=False, followers_count=141, friends_count=719, listed_count=0, created_at=datetime.datetime(2011, 10, 29, 12, 59, 43), favourites_count=11214, utc_offset=None, time_zone=None, geo_enabled=True, verified=False, statuses_count=798, lang=None, contributors_enabled=False, is_translator=False, is_translation_enabled=False, profile_background_color='000000', profile_background_image_url='http://abs.twimg.com/images/themes/theme11/bg.gif', profile_background_image_url_https='https://abs.twimg.com/images/themes/theme11/bg.gif', profile_background_tile=False, profile_image_url='http://pbs.twimg.com/profile_images/1283636171516542976/zhHPQTXa_normal.jpg', profile_image_url_https='https://pbs.twimg.com/profile_images/1283636171516542976/zhHPQTXa_normal.jpg', profile_banner_url='https://pbs.twimg.com/profile_banners/400703132/1562378661', profile_link_color='E81C4F', profile_sidebar_border_color='000000', profile_sidebar_fill_color='000000', profile_text_color='000000', profile_use_background_image=False, has_extended_profile=True, default_profile=False, default_profile_image=False, following=True, follow_request_sent=False, notifications=False, translator_type='none'), user=User(_api=<tweepy.api.API object at 0x10b693240>, _json={'id': 400703132, 'id_str': '400703132', 'name': 'Divya', 'screen_name': 'divyashie', 'location': 'West Chicago, IL', 'description': '\"Being human is given, keeping humanity is a choice\" 🌹', 'url': None, 'entities': {'description': {'urls': []}}, 'protected': False, 'followers_count': 141, 'friends_count': 719, 'listed_count': 0, 'created_at': 'Sat Oct 29 12:59:43 +0000 2011', 'favourites_count': 11214, 'utc_offset': None, 'time_zone': None, 'geo_enabled': True, 'verified': False, 'statuses_count': 798, 'lang': None, 'contributors_enabled': False, 'is_translator': False, 'is_translation_enabled': False, 'profile_background_color': '000000', 'profile_background_image_url': 'http://abs.twimg.com/images/themes/theme11/bg.gif', 'profile_background_image_url_https': 'https://abs.twimg.com/images/themes/theme11/bg.gif', 'profile_background_tile': False, 'profile_image_url': 'http://pbs.twimg.com/profile_images/1283636171516542976/zhHPQTXa_normal.jpg', 'profile_image_url_https': 'https://pbs.twimg.com/profile_images/1283636171516542976/zhHPQTXa_normal.jpg', 'profile_banner_url': 'https://pbs.twimg.com/profile_banners/400703132/1562378661', 'profile_link_color': 'E81C4F', 'profile_sidebar_border_color': '000000', 'profile_sidebar_fill_color': '000000', 'profile_text_color': '000000', 'profile_use_background_image': False, 'has_extended_profile': True, 'default_profile': False, 'default_profile_image': False, 'following': True, 'follow_request_sent': False, 'notifications': False, 'translator_type': 'none'}, id=400703132, id_str='400703132', name='Divya', screen_name='divyashie', location='West Chicago, IL', description='\"Being human is given, keeping humanity is a choice\" 🌹', url=None, entities={'description': {'urls': []}}, protected=False, followers_count=141, friends_count=719, listed_count=0, created_at=datetime.datetime(2011, 10, 29, 12, 59, 43), favourites_count=11214, utc_offset=None, time_zone=None, geo_enabled=True, verified=False, statuses_count=798, lang=None, contributors_enabled=False, is_translator=False, is_translation_enabled=False, profile_background_color='000000', profile_background_image_url='http://abs.twimg.com/images/themes/theme11/bg.gif', profile_background_image_url_https='https://abs.twimg.com/images/themes/theme11/bg.gif', profile_background_tile=False, profile_image_url='http://pbs.twimg.com/profile_images/1283636171516542976/zhHPQTXa_normal.jpg', profile_image_url_https='https://pbs.twimg.com/profile_images/1283636171516542976/zhHPQTXa_normal.jpg', profile_banner_url='https://pbs.twimg.com/profile_banners/400703132/1562378661', profile_link_color='E81C4F', profile_sidebar_border_color='000000', profile_sidebar_fill_color='000000', profile_text_color='000000', profile_use_background_image=False, has_extended_profile=True, default_profile=False, default_profile_image=False, following=True, follow_request_sent=False, notifications=False, translator_type='none'), geo=None, coordinates=None, place=Place(_api=<tweepy.api.API object at 0x10b693240>, id='1d9a5370a355ab0c', url='https://api.twitter.com/1.1/geo/id/1d9a5370a355ab0c.json', place_type='city', name='Chicago', full_name='Chicago, IL', country_code='US', country='United States', contained_within=[], bounding_box=BoundingBox(_api=<tweepy.api.API object at 0x10b693240>, type='Polygon', coordinates=[[[-87.940033, 41.644102], [-87.523993, 41.644102], [-87.523993, 42.0230669], [-87.940033, 42.0230669]]]), attributes={}), contributors=None, is_quote_status=False, retweet_count=0, favorite_count=0, favorited=False, retweeted=False, lang='en'),\n",
       " Status(_api=<tweepy.api.API object at 0x10b693240>, _json={'created_at': 'Thu Oct 15 17:40:44 +0000 2020', 'id': 1316796162083561473, 'id_str': '1316796162083561473', 'text': '@EkremGuzelyel Send the highlights', 'truncated': False, 'entities': {'hashtags': [], 'symbols': [], 'user_mentions': [{'screen_name': 'EkremGuzelyel', 'name': 'Ekrem Guzelyel', 'id': 2867005528, 'id_str': '2867005528', 'indices': [0, 14]}], 'urls': []}, 'source': '<a href=\"http://twitter.com/download/iphone\" rel=\"nofollow\">Twitter for iPhone</a>', 'in_reply_to_status_id': 1316791177656627200, 'in_reply_to_status_id_str': '1316791177656627200', 'in_reply_to_user_id': 2867005528, 'in_reply_to_user_id_str': '2867005528', 'in_reply_to_screen_name': 'EkremGuzelyel', 'user': {'id': 400703132, 'id_str': '400703132', 'name': 'Divya', 'screen_name': 'divyashie', 'location': 'West Chicago, IL', 'description': '\"Being human is given, keeping humanity is a choice\" 🌹', 'url': None, 'entities': {'description': {'urls': []}}, 'protected': False, 'followers_count': 141, 'friends_count': 719, 'listed_count': 0, 'created_at': 'Sat Oct 29 12:59:43 +0000 2011', 'favourites_count': 11214, 'utc_offset': None, 'time_zone': None, 'geo_enabled': True, 'verified': False, 'statuses_count': 798, 'lang': None, 'contributors_enabled': False, 'is_translator': False, 'is_translation_enabled': False, 'profile_background_color': '000000', 'profile_background_image_url': 'http://abs.twimg.com/images/themes/theme11/bg.gif', 'profile_background_image_url_https': 'https://abs.twimg.com/images/themes/theme11/bg.gif', 'profile_background_tile': False, 'profile_image_url': 'http://pbs.twimg.com/profile_images/1283636171516542976/zhHPQTXa_normal.jpg', 'profile_image_url_https': 'https://pbs.twimg.com/profile_images/1283636171516542976/zhHPQTXa_normal.jpg', 'profile_banner_url': 'https://pbs.twimg.com/profile_banners/400703132/1562378661', 'profile_link_color': 'E81C4F', 'profile_sidebar_border_color': '000000', 'profile_sidebar_fill_color': '000000', 'profile_text_color': '000000', 'profile_use_background_image': False, 'has_extended_profile': True, 'default_profile': False, 'default_profile_image': False, 'following': True, 'follow_request_sent': False, 'notifications': False, 'translator_type': 'none'}, 'geo': None, 'coordinates': None, 'place': None, 'contributors': None, 'is_quote_status': False, 'retweet_count': 0, 'favorite_count': 0, 'favorited': False, 'retweeted': False, 'lang': 'en'}, created_at=datetime.datetime(2020, 10, 15, 17, 40, 44), id=1316796162083561473, id_str='1316796162083561473', text='@EkremGuzelyel Send the highlights', truncated=False, entities={'hashtags': [], 'symbols': [], 'user_mentions': [{'screen_name': 'EkremGuzelyel', 'name': 'Ekrem Guzelyel', 'id': 2867005528, 'id_str': '2867005528', 'indices': [0, 14]}], 'urls': []}, source='Twitter for iPhone', source_url='http://twitter.com/download/iphone', in_reply_to_status_id=1316791177656627200, in_reply_to_status_id_str='1316791177656627200', in_reply_to_user_id=2867005528, in_reply_to_user_id_str='2867005528', in_reply_to_screen_name='EkremGuzelyel', author=User(_api=<tweepy.api.API object at 0x10b693240>, _json={'id': 400703132, 'id_str': '400703132', 'name': 'Divya', 'screen_name': 'divyashie', 'location': 'West Chicago, IL', 'description': '\"Being human is given, keeping humanity is a choice\" 🌹', 'url': None, 'entities': {'description': {'urls': []}}, 'protected': False, 'followers_count': 141, 'friends_count': 719, 'listed_count': 0, 'created_at': 'Sat Oct 29 12:59:43 +0000 2011', 'favourites_count': 11214, 'utc_offset': None, 'time_zone': None, 'geo_enabled': True, 'verified': False, 'statuses_count': 798, 'lang': None, 'contributors_enabled': False, 'is_translator': False, 'is_translation_enabled': False, 'profile_background_color': '000000', 'profile_background_image_url': 'http://abs.twimg.com/images/themes/theme11/bg.gif', 'profile_background_image_url_https': 'https://abs.twimg.com/images/themes/theme11/bg.gif', 'profile_background_tile': False, 'profile_image_url': 'http://pbs.twimg.com/profile_images/1283636171516542976/zhHPQTXa_normal.jpg', 'profile_image_url_https': 'https://pbs.twimg.com/profile_images/1283636171516542976/zhHPQTXa_normal.jpg', 'profile_banner_url': 'https://pbs.twimg.com/profile_banners/400703132/1562378661', 'profile_link_color': 'E81C4F', 'profile_sidebar_border_color': '000000', 'profile_sidebar_fill_color': '000000', 'profile_text_color': '000000', 'profile_use_background_image': False, 'has_extended_profile': True, 'default_profile': False, 'default_profile_image': False, 'following': True, 'follow_request_sent': False, 'notifications': False, 'translator_type': 'none'}, id=400703132, id_str='400703132', name='Divya', screen_name='divyashie', location='West Chicago, IL', description='\"Being human is given, keeping humanity is a choice\" 🌹', url=None, entities={'description': {'urls': []}}, protected=False, followers_count=141, friends_count=719, listed_count=0, created_at=datetime.datetime(2011, 10, 29, 12, 59, 43), favourites_count=11214, utc_offset=None, time_zone=None, geo_enabled=True, verified=False, statuses_count=798, lang=None, contributors_enabled=False, is_translator=False, is_translation_enabled=False, profile_background_color='000000', profile_background_image_url='http://abs.twimg.com/images/themes/theme11/bg.gif', profile_background_image_url_https='https://abs.twimg.com/images/themes/theme11/bg.gif', profile_background_tile=False, profile_image_url='http://pbs.twimg.com/profile_images/1283636171516542976/zhHPQTXa_normal.jpg', profile_image_url_https='https://pbs.twimg.com/profile_images/1283636171516542976/zhHPQTXa_normal.jpg', profile_banner_url='https://pbs.twimg.com/profile_banners/400703132/1562378661', profile_link_color='E81C4F', profile_sidebar_border_color='000000', profile_sidebar_fill_color='000000', profile_text_color='000000', profile_use_background_image=False, has_extended_profile=True, default_profile=False, default_profile_image=False, following=True, follow_request_sent=False, notifications=False, translator_type='none'), user=User(_api=<tweepy.api.API object at 0x10b693240>, _json={'id': 400703132, 'id_str': '400703132', 'name': 'Divya', 'screen_name': 'divyashie', 'location': 'West Chicago, IL', 'description': '\"Being human is given, keeping humanity is a choice\" 🌹', 'url': None, 'entities': {'description': {'urls': []}}, 'protected': False, 'followers_count': 141, 'friends_count': 719, 'listed_count': 0, 'created_at': 'Sat Oct 29 12:59:43 +0000 2011', 'favourites_count': 11214, 'utc_offset': None, 'time_zone': None, 'geo_enabled': True, 'verified': False, 'statuses_count': 798, 'lang': None, 'contributors_enabled': False, 'is_translator': False, 'is_translation_enabled': False, 'profile_background_color': '000000', 'profile_background_image_url': 'http://abs.twimg.com/images/themes/theme11/bg.gif', 'profile_background_image_url_https': 'https://abs.twimg.com/images/themes/theme11/bg.gif', 'profile_background_tile': False, 'profile_image_url': 'http://pbs.twimg.com/profile_images/1283636171516542976/zhHPQTXa_normal.jpg', 'profile_image_url_https': 'https://pbs.twimg.com/profile_images/1283636171516542976/zhHPQTXa_normal.jpg', 'profile_banner_url': 'https://pbs.twimg.com/profile_banners/400703132/1562378661', 'profile_link_color': 'E81C4F', 'profile_sidebar_border_color': '000000', 'profile_sidebar_fill_color': '000000', 'profile_text_color': '000000', 'profile_use_background_image': False, 'has_extended_profile': True, 'default_profile': False, 'default_profile_image': False, 'following': True, 'follow_request_sent': False, 'notifications': False, 'translator_type': 'none'}, id=400703132, id_str='400703132', name='Divya', screen_name='divyashie', location='West Chicago, IL', description='\"Being human is given, keeping humanity is a choice\" 🌹', url=None, entities={'description': {'urls': []}}, protected=False, followers_count=141, friends_count=719, listed_count=0, created_at=datetime.datetime(2011, 10, 29, 12, 59, 43), favourites_count=11214, utc_offset=None, time_zone=None, geo_enabled=True, verified=False, statuses_count=798, lang=None, contributors_enabled=False, is_translator=False, is_translation_enabled=False, profile_background_color='000000', profile_background_image_url='http://abs.twimg.com/images/themes/theme11/bg.gif', profile_background_image_url_https='https://abs.twimg.com/images/themes/theme11/bg.gif', profile_background_tile=False, profile_image_url='http://pbs.twimg.com/profile_images/1283636171516542976/zhHPQTXa_normal.jpg', profile_image_url_https='https://pbs.twimg.com/profile_images/1283636171516542976/zhHPQTXa_normal.jpg', profile_banner_url='https://pbs.twimg.com/profile_banners/400703132/1562378661', profile_link_color='E81C4F', profile_sidebar_border_color='000000', profile_sidebar_fill_color='000000', profile_text_color='000000', profile_use_background_image=False, has_extended_profile=True, default_profile=False, default_profile_image=False, following=True, follow_request_sent=False, notifications=False, translator_type='none'), geo=None, coordinates=None, place=None, contributors=None, is_quote_status=False, retweet_count=0, favorite_count=0, favorited=False, retweeted=False, lang='en'),\n",
       " Status(_api=<tweepy.api.API object at 0x10b693240>, _json={'created_at': 'Thu Sep 24 21:49:59 +0000 2020', 'id': 1309248740595769345, 'id_str': '1309248740595769345', 'text': '@divyashie @EkremGuzelyel @TwitterU #TwitterUApp I hope this works man. I aced their hacker rank last year and STILL didnt get an interview', 'truncated': False, 'entities': {'hashtags': [{'text': 'TwitterUApp', 'indices': [36, 48]}], 'symbols': [], 'user_mentions': [{'screen_name': 'divyashie', 'name': 'Divya', 'id': 400703132, 'id_str': '400703132', 'indices': [0, 10]}, {'screen_name': 'EkremGuzelyel', 'name': 'Ekrem Guzelyel', 'id': 2867005528, 'id_str': '2867005528', 'indices': [11, 25]}, {'screen_name': 'TwitterU', 'name': 'Twitter University Recruiting', 'id': 172442947, 'id_str': '172442947', 'indices': [26, 35]}], 'urls': []}, 'source': '<a href=\"https://mobile.twitter.com\" rel=\"nofollow\">Twitter Web App</a>', 'in_reply_to_status_id': 1308891363296137217, 'in_reply_to_status_id_str': '1308891363296137217', 'in_reply_to_user_id': 400703132, 'in_reply_to_user_id_str': '400703132', 'in_reply_to_screen_name': 'divyashie', 'user': {'id': 2926340213, 'id_str': '2926340213', 'name': 'aakef', 'screen_name': 'awaris99', 'location': '', 'description': 'Speak recklessly', 'url': None, 'entities': {'description': {'urls': []}}, 'protected': False, 'followers_count': 304, 'friends_count': 256, 'listed_count': 2, 'created_at': 'Wed Dec 17 04:13:01 +0000 2014', 'favourites_count': 10766, 'utc_offset': None, 'time_zone': None, 'geo_enabled': True, 'verified': False, 'statuses_count': 1657, 'lang': None, 'contributors_enabled': False, 'is_translator': False, 'is_translation_enabled': False, 'profile_background_color': 'C0DEED', 'profile_background_image_url': 'http://abs.twimg.com/images/themes/theme1/bg.png', 'profile_background_image_url_https': 'https://abs.twimg.com/images/themes/theme1/bg.png', 'profile_background_tile': False, 'profile_image_url': 'http://pbs.twimg.com/profile_images/1250582697698906112/wD2Rd2JZ_normal.jpg', 'profile_image_url_https': 'https://pbs.twimg.com/profile_images/1250582697698906112/wD2Rd2JZ_normal.jpg', 'profile_banner_url': 'https://pbs.twimg.com/profile_banners/2926340213/1586997238', 'profile_link_color': '1DA1F2', 'profile_sidebar_border_color': 'C0DEED', 'profile_sidebar_fill_color': 'DDEEF6', 'profile_text_color': '333333', 'profile_use_background_image': True, 'has_extended_profile': True, 'default_profile': True, 'default_profile_image': False, 'following': True, 'follow_request_sent': False, 'notifications': False, 'translator_type': 'none'}, 'geo': None, 'coordinates': None, 'place': None, 'contributors': None, 'is_quote_status': False, 'retweet_count': 0, 'favorite_count': 1, 'favorited': False, 'retweeted': False, 'lang': 'en'}, created_at=datetime.datetime(2020, 9, 24, 21, 49, 59), id=1309248740595769345, id_str='1309248740595769345', text='@divyashie @EkremGuzelyel @TwitterU #TwitterUApp I hope this works man. I aced their hacker rank last year and STILL didnt get an interview', truncated=False, entities={'hashtags': [{'text': 'TwitterUApp', 'indices': [36, 48]}], 'symbols': [], 'user_mentions': [{'screen_name': 'divyashie', 'name': 'Divya', 'id': 400703132, 'id_str': '400703132', 'indices': [0, 10]}, {'screen_name': 'EkremGuzelyel', 'name': 'Ekrem Guzelyel', 'id': 2867005528, 'id_str': '2867005528', 'indices': [11, 25]}, {'screen_name': 'TwitterU', 'name': 'Twitter University Recruiting', 'id': 172442947, 'id_str': '172442947', 'indices': [26, 35]}], 'urls': []}, source='Twitter Web App', source_url='https://mobile.twitter.com', in_reply_to_status_id=1308891363296137217, in_reply_to_status_id_str='1308891363296137217', in_reply_to_user_id=400703132, in_reply_to_user_id_str='400703132', in_reply_to_screen_name='divyashie', author=User(_api=<tweepy.api.API object at 0x10b693240>, _json={'id': 2926340213, 'id_str': '2926340213', 'name': 'aakef', 'screen_name': 'awaris99', 'location': '', 'description': 'Speak recklessly', 'url': None, 'entities': {'description': {'urls': []}}, 'protected': False, 'followers_count': 304, 'friends_count': 256, 'listed_count': 2, 'created_at': 'Wed Dec 17 04:13:01 +0000 2014', 'favourites_count': 10766, 'utc_offset': None, 'time_zone': None, 'geo_enabled': True, 'verified': False, 'statuses_count': 1657, 'lang': None, 'contributors_enabled': False, 'is_translator': False, 'is_translation_enabled': False, 'profile_background_color': 'C0DEED', 'profile_background_image_url': 'http://abs.twimg.com/images/themes/theme1/bg.png', 'profile_background_image_url_https': 'https://abs.twimg.com/images/themes/theme1/bg.png', 'profile_background_tile': False, 'profile_image_url': 'http://pbs.twimg.com/profile_images/1250582697698906112/wD2Rd2JZ_normal.jpg', 'profile_image_url_https': 'https://pbs.twimg.com/profile_images/1250582697698906112/wD2Rd2JZ_normal.jpg', 'profile_banner_url': 'https://pbs.twimg.com/profile_banners/2926340213/1586997238', 'profile_link_color': '1DA1F2', 'profile_sidebar_border_color': 'C0DEED', 'profile_sidebar_fill_color': 'DDEEF6', 'profile_text_color': '333333', 'profile_use_background_image': True, 'has_extended_profile': True, 'default_profile': True, 'default_profile_image': False, 'following': True, 'follow_request_sent': False, 'notifications': False, 'translator_type': 'none'}, id=2926340213, id_str='2926340213', name='aakef', screen_name='awaris99', location='', description='Speak recklessly', url=None, entities={'description': {'urls': []}}, protected=False, followers_count=304, friends_count=256, listed_count=2, created_at=datetime.datetime(2014, 12, 17, 4, 13, 1), favourites_count=10766, utc_offset=None, time_zone=None, geo_enabled=True, verified=False, statuses_count=1657, lang=None, contributors_enabled=False, is_translator=False, is_translation_enabled=False, profile_background_color='C0DEED', profile_background_image_url='http://abs.twimg.com/images/themes/theme1/bg.png', profile_background_image_url_https='https://abs.twimg.com/images/themes/theme1/bg.png', profile_background_tile=False, profile_image_url='http://pbs.twimg.com/profile_images/1250582697698906112/wD2Rd2JZ_normal.jpg', profile_image_url_https='https://pbs.twimg.com/profile_images/1250582697698906112/wD2Rd2JZ_normal.jpg', profile_banner_url='https://pbs.twimg.com/profile_banners/2926340213/1586997238', profile_link_color='1DA1F2', profile_sidebar_border_color='C0DEED', profile_sidebar_fill_color='DDEEF6', profile_text_color='333333', profile_use_background_image=True, has_extended_profile=True, default_profile=True, default_profile_image=False, following=True, follow_request_sent=False, notifications=False, translator_type='none'), user=User(_api=<tweepy.api.API object at 0x10b693240>, _json={'id': 2926340213, 'id_str': '2926340213', 'name': 'aakef', 'screen_name': 'awaris99', 'location': '', 'description': 'Speak recklessly', 'url': None, 'entities': {'description': {'urls': []}}, 'protected': False, 'followers_count': 304, 'friends_count': 256, 'listed_count': 2, 'created_at': 'Wed Dec 17 04:13:01 +0000 2014', 'favourites_count': 10766, 'utc_offset': None, 'time_zone': None, 'geo_enabled': True, 'verified': False, 'statuses_count': 1657, 'lang': None, 'contributors_enabled': False, 'is_translator': False, 'is_translation_enabled': False, 'profile_background_color': 'C0DEED', 'profile_background_image_url': 'http://abs.twimg.com/images/themes/theme1/bg.png', 'profile_background_image_url_https': 'https://abs.twimg.com/images/themes/theme1/bg.png', 'profile_background_tile': False, 'profile_image_url': 'http://pbs.twimg.com/profile_images/1250582697698906112/wD2Rd2JZ_normal.jpg', 'profile_image_url_https': 'https://pbs.twimg.com/profile_images/1250582697698906112/wD2Rd2JZ_normal.jpg', 'profile_banner_url': 'https://pbs.twimg.com/profile_banners/2926340213/1586997238', 'profile_link_color': '1DA1F2', 'profile_sidebar_border_color': 'C0DEED', 'profile_sidebar_fill_color': 'DDEEF6', 'profile_text_color': '333333', 'profile_use_background_image': True, 'has_extended_profile': True, 'default_profile': True, 'default_profile_image': False, 'following': True, 'follow_request_sent': False, 'notifications': False, 'translator_type': 'none'}, id=2926340213, id_str='2926340213', name='aakef', screen_name='awaris99', location='', description='Speak recklessly', url=None, entities={'description': {'urls': []}}, protected=False, followers_count=304, friends_count=256, listed_count=2, created_at=datetime.datetime(2014, 12, 17, 4, 13, 1), favourites_count=10766, utc_offset=None, time_zone=None, geo_enabled=True, verified=False, statuses_count=1657, lang=None, contributors_enabled=False, is_translator=False, is_translation_enabled=False, profile_background_color='C0DEED', profile_background_image_url='http://abs.twimg.com/images/themes/theme1/bg.png', profile_background_image_url_https='https://abs.twimg.com/images/themes/theme1/bg.png', profile_background_tile=False, profile_image_url='http://pbs.twimg.com/profile_images/1250582697698906112/wD2Rd2JZ_normal.jpg', profile_image_url_https='https://pbs.twimg.com/profile_images/1250582697698906112/wD2Rd2JZ_normal.jpg', profile_banner_url='https://pbs.twimg.com/profile_banners/2926340213/1586997238', profile_link_color='1DA1F2', profile_sidebar_border_color='C0DEED', profile_sidebar_fill_color='DDEEF6', profile_text_color='333333', profile_use_background_image=True, has_extended_profile=True, default_profile=True, default_profile_image=False, following=True, follow_request_sent=False, notifications=False, translator_type='none'), geo=None, coordinates=None, place=None, contributors=None, is_quote_status=False, retweet_count=0, favorite_count=1, favorited=False, retweeted=False, lang='en')]"
      ]
     },
     "execution_count": 95,
     "metadata": {},
     "output_type": "execute_result"
    }
   ],
   "source": [
    "api.mentions_timeline(count=5)"
   ]
  },
  {
   "cell_type": "code",
   "execution_count": 110,
   "metadata": {},
   "outputs": [],
   "source": [
    "person_id.screen_name # Twitter Handle\n",
    "mentions = api.search(person_id.screen_name, count=10, include_rts=False) # or api.search(\"CPD_Media\", count=10) "
   ]
  },
  {
   "cell_type": "code",
   "execution_count": 111,
   "metadata": {
    "scrolled": false
   },
   "outputs": [
    {
     "name": "stdout",
     "output_type": "stream",
     "text": [
      "1329613810794196998\n",
      "RT @cpdmemorial: Today, @ChiefDavidBrown and Phil Cline announced CPMF’s #HelmetsforHeroes Campaign! \n",
      "\n",
      "These new, upgraded helmets include…\n",
      "1329606572935438337\n",
      "Brown encourages people to like and share social media posts of CPD community engagement events.\n",
      "1329544347784785923\n",
      "#CPD event: The Unconscious of Social Media\n",
      "￼22/1/21\n",
      "In this live CPD event, clinical psychotherapist Dr Aaron Bali… https://t.co/T44U8KTnlX\n",
      "1329542250267815938\n",
      "RT @cpdmemorial: Today, @ChiefDavidBrown and Phil Cline announced CPMF’s #HelmetsforHeroes Campaign! \n",
      "\n",
      "These new, upgraded helmets include…\n",
      "1329542198975672329\n",
      "RT @cpdmemorial: Today, @ChiefDavidBrown and Phil Cline announced CPMF’s #HelmetsforHeroes Campaign! \n",
      "\n",
      "These new, upgraded helmets include…\n",
      "1329541923909066752\n",
      "Today, @ChiefDavidBrown and Phil Cline announced CPMF’s #HelmetsforHeroes Campaign! \n",
      "\n",
      "These new, upgraded helmets i… https://t.co/VASdOQjcgS\n",
      "1329467807650770948\n",
      "@ChicagoCOPA Police Board is tonight and won’t be fun for the following Chicago police officers:\n",
      "\n",
      "Mike Krueger \n",
      "Gre… https://t.co/NZOZAZMNUc\n",
      "1329461492756877312\n",
      "RT @blucu: A friend asked on social media, “How old were you the first time CPD pulled a gun on you?\n",
      "\n",
      "I was 18 https://t.co/dGsMCVfOvx\n",
      "1329450096921108484\n",
      "RT @jillberry102: How can you take charge of your own CPD? \"If you choose to read a book about education, you are taking control. If you us…\n",
      "1329440505340583937\n",
      "RT @blucu: A friend asked on social media, “How old were you the first time CPD pulled a gun on you?\n",
      "\n",
      "I was 18\n"
     ]
    }
   ],
   "source": [
    "for mention in mentions:\n",
    "#     print(mention)\n",
    "    print(mention.id) # This is the tweet id\n",
    "    print(mention.text)"
   ]
  },
  {
   "cell_type": "code",
   "execution_count": 107,
   "metadata": {
    "scrolled": true
   },
   "outputs": [
    {
     "data": {
      "text/plain": [
       "'RT @blucu: A friend asked on social media, “How old were you the first time CPD pulled a gun on you?\\n\\nI was 18'"
      ]
     },
     "execution_count": 107,
     "metadata": {},
     "output_type": "execute_result"
    }
   ],
   "source": [
    "api.get_status(\"1329440505340583937\").text\n",
    "# api.get_user(\"1329440505340583937\")"
   ]
  },
  {
   "cell_type": "code",
   "execution_count": 112,
   "metadata": {},
   "outputs": [],
   "source": [
    "# Chicago_Police\n",
    "person = \"Chicago_Police\"\n",
    "mentions = api.search(person, count=10, include_rts=False)"
   ]
  },
  {
   "cell_type": "code",
   "execution_count": 113,
   "metadata": {
    "scrolled": true
   },
   "outputs": [
    {
     "name": "stdout",
     "output_type": "stream",
     "text": [
      "1329699784165363713\n",
      "RECOGNIZE ANYONE? Chicago police released video Thursday of individuals wanted for looting a business in August on… https://t.co/BTeCWN4xBI\n",
      "1329699460281057280\n",
      "23 shootings in Chicago on Monday alone and America is supposed to think police are the problem? How stupid are people?\n",
      "1329698606664855552\n",
      "RT @cbschicago: Gary Police Officer Who Fatally Shot Rashad Cunningham Will Face No Charges https://t.co/0TSeOFtfjX https://t.co/ixy6Sam3wX\n",
      "1329698424002850816\n",
      "A lawsuit is filed against the Chicago Police Department, accusing them of brutally attacking and falsely arresting… https://t.co/RiYBwUZTUa\n",
      "1329698045550862341\n",
      "RT @RossanaFor33: Some people badly hurt by CPD that day are ppl I deeply love. It was heartbreaking to witness the harm inflicted on them…\n",
      "1329697331747418113\n",
      "@USATODAY The Chicago police are correct. They are doing the right thing.\n",
      "1329697284578271233\n",
      "They went a lot further than police in Kentucky.\n",
      "\n",
      "Protesters file federal lawsuit against Chicago police https://t.co/pSBal2VqBC\n",
      "1329696052186845193\n",
      "Twenty Years of Vaudeville and a Pension What Really Happens Behind the Badge Based on True Stories of Chicago's Fi… https://t.co/3q6wESgCXo\n",
      "1329695262135230464\n",
      "VIEW FRAUD IN NORTHERN IL DIST COURT 13CV2621 LAWSUIT COMPLAINT DOC 28 IN COMPARISON TO JUDGE'S ORDER DOC 48-CHICAG… https://t.co/NT9QuQS6rP\n",
      "1329695179121504256\n",
      "VIEW FRAUD IN NORTHERN IL DIST COURT 13CV2621 LAWSUIT COMPLAINT DOC 28 IN COMPARISON TO JUDGE'S ORDER DOC 48, CHICA… https://t.co/qqJMo52Q5f\n"
     ]
    }
   ],
   "source": [
    "for mention in mentions:\n",
    "#     print(mention)\n",
    "    print(mention.id) # This is the tweet id\n",
    "    print(mention.text)"
   ]
  },
  {
   "cell_type": "code",
   "execution_count": 140,
   "metadata": {},
   "outputs": [],
   "source": [
    "# api.search(\"danger OR gun OR emergent  has:hashtags -has:media\", count=10)\n",
    "# api.search(\"puppy -filter:retweets -filter:media\",count=5) # Exclude retweets and media WORKS\n",
    "# Second try.\n",
    "search = api.search(\"danger OR gun OR emergent filter:hashtags -filter:retweets -filter:media\", count=10)"
   ]
  },
  {
   "cell_type": "code",
   "execution_count": 141,
   "metadata": {},
   "outputs": [
    {
     "name": "stdout",
     "output_type": "stream",
     "text": [
      "@Rossignol_Ferry #defiinference Je suis de la glace flottante et je vis dans l'eau glacée de l’Antarctique. Je suis… https://t.co/QxK6GBT3rP\n",
      "Climate change clear, present danger to Filipinos https://t.co/lWzAyCRQap \n",
      "\n",
      "#climatechange #ClimateAction\n",
      "みんなからの匿名質問を募集中！\n",
      "\n",
      "こんな質問に答えてるよ\n",
      "● よろしければお友達から始めませ…\n",
      "● 質問箱のアイコンも変えなよ\n",
      "未…\n",
      "● 好きです付き合ってください…\n",
      "● あほ…\n",
      "#質問箱 #匿名質問募集中\n",
      "\n",
      "https://t.co/Wk1qmWFkRq\n",
      "@BorisJohnson We need defending more from your hostile government more than any other danger. You are responsible f… https://t.co/vYR81Eaduk\n",
      "International experts warn on impending danger of ‘genocide’ of Indian Muslims##kashmirblackday  https://t.co/uZEDP4DyX6\n",
      "We all have one gun to shoot out Tibu &amp; his corrupt leaders &amp; that's the NATIONAL ID. Guard it cos come 14.jan.2021… https://t.co/eqBvfrEwVe\n",
      "🌟 ⓅⓄⒼⓄⒽⓊⒷ 🌟\n",
      "✨ Slowpoke ♂️ (45:49)\n",
      "MOVES: Water Gun / Water Pulse\n",
      "IV: 97.8 (15/15/14) CP: 769 LVL: 22\n",
      "🇺🇸 Bay Pines,… https://t.co/tKoqBPUqXH\n",
      "🌟 ⓅⓄⒼⓄⒽⓊⒷ 🌟\n",
      "✨ Slowpoke ♂️ (45:49)\n",
      "MOVES: Water Gun / Water Pulse\n",
      "IV: 97.8 (15/15/14) CP: 769 LVL: 22\n",
      "🇺🇸 Bay Pines,… https://t.co/iP5FVj6ERy\n",
      "#AdventureTimeObsidian I’m glad that we a society finally have come to the agreement that Simon Petrikov is an attractive son of a gun.\n",
      "Pas facile d'y voir clair pour l'industrie du #jouet, mais les récents sondages auprès des consommateurs sont plutô… https://t.co/cT8CiOa6B3\n"
     ]
    }
   ],
   "source": [
    "for srch in search:\n",
    "    print(srch.text)"
   ]
  },
  {
   "cell_type": "code",
   "execution_count": null,
   "metadata": {},
   "outputs": [],
   "source": [
    "words = [\n",
    "\"thief\",\n",
    "\"ambulance\",\n",
    "\"robbery\",\n",
    "\"gun\",\n",
    "\"please send\",\n",
    "\"address\"\n",
    "]"
   ]
  },
  {
   "cell_type": "markdown",
   "metadata": {},
   "source": [
    "__If 4 of these words are in one tweet, flag them as emergent.__"
   ]
  },
  {
   "cell_type": "code",
   "execution_count": 157,
   "metadata": {},
   "outputs": [],
   "source": [
    "search2 = api.search(\"please AND (thief OR danger OR gun) AND (emergency OR 911 OR help) -filter:hashtags -filter:retweets -filter:media\", count=10, truncated=False)\n",
    "# search2 = api.search(\"please AND help AND (shot OR thief OR danger OR gun) AND (emergency OR 911) -filter:hashtags -filter:retweets -filter:media\", count=10, truncated=False)"
   ]
  },
  {
   "cell_type": "code",
   "execution_count": 160,
   "metadata": {},
   "outputs": [
    {
     "name": "stdout",
     "output_type": "stream",
     "text": [
      "False\n",
      "822215679726100480\n",
      "Princess KB\n",
      "@POTUS \n",
      "\n",
      "MR. TRUMP, I NEED YOUR HELP, PLEASE. I HAVE A STALKER WHICH PREVENTS MY LIFE SINCE 3 YEARS. I NEED A HAND… https://t.co/1EeMx4rRZz\n",
      "False\n",
      "None\n",
      "@IronSpinal\n",
      "Can someone help me out here , I see all of this Twitter trash talking about scared Democrats , they should be scur… https://t.co/34QCxKQCI5\n",
      "False\n",
      "1312835790003732480\n",
      "Ask Lyft\n",
      "@kmadelynnnn Safety is paramount and all vehicles must be safe to drive on the Lyft platform. If you’re in immediat… https://t.co/b7phbNqvUZ\n",
      "False\n",
      "1308623118806601729\n",
      "Ask Lyft\n",
      "@Jiiggycurls Safety is paramount to Lyft and making sure each user is comfortable is an important part of that. If… https://t.co/s3PJ4XW1ta\n",
      "False\n",
      "1329784497945145344\n",
      "Amber\n",
      "Its amber I m not in greece sir please request you to help me my life is in danger. I need some one who is from unhcr in turkey\n",
      "False\n",
      "3171973624\n",
      "Ask Lyft\n",
      "@EmpressAveryy Safety is paramount and it’s imperative that our drivers drive safely and follow local laws. If you’… https://t.co/2TunV26h8L\n",
      "False\n",
      "25073877\n",
      "Munchkin\n",
      "@realDonaldTrump is putting our country in great danger. He’s SO obsessed with the election that’s he’s gone off th… https://t.co/L6ikrkcjBl\n",
      "False\n",
      "2992445202\n",
      "Ask Lyft\n",
      "@urgirlmiche Safety is paramount and it’s imperative that our drivers drive safely and follow local laws. If you’re… https://t.co/vXCp83whd4\n",
      "True\n",
      "None\n",
      "Amber\n",
      "Help us aswell please we are also in danger https://t.co/65Zs21lfqr\n",
      "False\n",
      "14437914\n",
      "Rahfat Hussain\n",
      "@NewsHour Why?  Please don't waste precious public radio waves for this insignificance and instead spend time cover… https://t.co/nifzC4pGUB\n"
     ]
    }
   ],
   "source": [
    "for srch in search2:\n",
    "    print(srch.is_quote_status)\n",
    "    print(srch.in_reply_to_user_id_str)\n",
    "    print(srch.author.name)\n",
    "    print(srch.text)"
   ]
  },
  {
   "cell_type": "code",
   "execution_count": null,
   "metadata": {},
   "outputs": [],
   "source": []
  }
 ],
 "metadata": {
  "kernelspec": {
   "display_name": "Python 3",
   "language": "python",
   "name": "python3"
  },
  "language_info": {
   "codemirror_mode": {
    "name": "ipython",
    "version": 3
   },
   "file_extension": ".py",
   "mimetype": "text/x-python",
   "name": "python",
   "nbconvert_exporter": "python",
   "pygments_lexer": "ipython3",
   "version": "3.6.5"
  }
 },
 "nbformat": 4,
 "nbformat_minor": 2
}
