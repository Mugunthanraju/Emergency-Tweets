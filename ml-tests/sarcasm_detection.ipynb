{
 "cells": [
  {
   "cell_type": "markdown",
   "metadata": {},
   "source": [
    "This notebook will be refactored to be used in production. Ideal case is the models will be saved beforehand to be used for any function call. Pickle load if needed."
   ]
  },
  {
   "cell_type": "code",
   "execution_count": 94,
   "metadata": {},
   "outputs": [],
   "source": [
    "import pandas as pd, numpy as np, re, time\n",
    "from nltk.stem.porter import PorterStemmer\n",
    "import pickle as pk"
   ]
  },
  {
   "cell_type": "code",
   "execution_count": 79,
   "metadata": {},
   "outputs": [],
   "source": [
    "from sklearn.model_selection import train_test_split\n",
    "from sklearn.metrics import confusion_matrix, f1_score, precision_recall_fscore_support\n",
    "from sklearn.svm import LinearSVC\n",
    "from sklearn.model_selection import cross_val_score\n",
    "from sklearn.naive_bayes import GaussianNB\n",
    "from sklearn.linear_model import LogisticRegression\n",
    "from sklearn.ensemble import RandomForestClassifier\n",
    "from sklearn.calibration import CalibratedClassifierCV"
   ]
  },
  {
   "cell_type": "code",
   "execution_count": 34,
   "metadata": {},
   "outputs": [],
   "source": [
    "data = pd.read_json('./data/Sarcasm_Headlines_Dataset.json', lines = True)"
   ]
  },
  {
   "cell_type": "code",
   "execution_count": 35,
   "metadata": {
    "scrolled": false
   },
   "outputs": [
    {
     "data": {
      "text/plain": [
       "(\"former versace store clerk sues over secret 'black code' for minority shoppers\",\n",
       " 0)"
      ]
     },
     "execution_count": 35,
     "metadata": {},
     "output_type": "execute_result"
    }
   ],
   "source": [
    "data.iloc[0].headline, data.iloc[0].is_sarcastic"
   ]
  },
  {
   "cell_type": "code",
   "execution_count": 36,
   "metadata": {},
   "outputs": [],
   "source": [
    "# Relacing special symbols and digits in headline column\n",
    "# re stands for Regular Expression\n",
    "data['headline'] = data['headline'].apply(lambda s : re.sub('[^a-zA-Z]', ' ', s))"
   ]
  },
  {
   "cell_type": "code",
   "execution_count": 37,
   "metadata": {},
   "outputs": [
    {
     "data": {
      "text/html": [
       "<div>\n",
       "<style scoped>\n",
       "    .dataframe tbody tr th:only-of-type {\n",
       "        vertical-align: middle;\n",
       "    }\n",
       "\n",
       "    .dataframe tbody tr th {\n",
       "        vertical-align: top;\n",
       "    }\n",
       "\n",
       "    .dataframe thead th {\n",
       "        text-align: right;\n",
       "    }\n",
       "</style>\n",
       "<table border=\"1\" class=\"dataframe\">\n",
       "  <thead>\n",
       "    <tr style=\"text-align: right;\">\n",
       "      <th></th>\n",
       "      <th>article_link</th>\n",
       "      <th>headline</th>\n",
       "      <th>is_sarcastic</th>\n",
       "    </tr>\n",
       "  </thead>\n",
       "  <tbody>\n",
       "    <tr>\n",
       "      <th>0</th>\n",
       "      <td>https://www.huffingtonpost.com/entry/versace-b...</td>\n",
       "      <td>former versace store clerk sues over secret  b...</td>\n",
       "      <td>0</td>\n",
       "    </tr>\n",
       "    <tr>\n",
       "      <th>1</th>\n",
       "      <td>https://www.huffingtonpost.com/entry/roseanne-...</td>\n",
       "      <td>the  roseanne  revival catches up to our thorn...</td>\n",
       "      <td>0</td>\n",
       "    </tr>\n",
       "    <tr>\n",
       "      <th>2</th>\n",
       "      <td>https://local.theonion.com/mom-starting-to-fea...</td>\n",
       "      <td>mom starting to fear son s web series closest ...</td>\n",
       "      <td>1</td>\n",
       "    </tr>\n",
       "    <tr>\n",
       "      <th>3</th>\n",
       "      <td>https://politics.theonion.com/boehner-just-wan...</td>\n",
       "      <td>boehner just wants wife to listen  not come up...</td>\n",
       "      <td>1</td>\n",
       "    </tr>\n",
       "    <tr>\n",
       "      <th>4</th>\n",
       "      <td>https://www.huffingtonpost.com/entry/jk-rowlin...</td>\n",
       "      <td>j k  rowling wishes snape happy birthday in th...</td>\n",
       "      <td>0</td>\n",
       "    </tr>\n",
       "    <tr>\n",
       "      <th>5</th>\n",
       "      <td>https://www.huffingtonpost.com/entry/advancing...</td>\n",
       "      <td>advancing the world s women</td>\n",
       "      <td>0</td>\n",
       "    </tr>\n",
       "    <tr>\n",
       "      <th>6</th>\n",
       "      <td>https://www.huffingtonpost.com/entry/how-meat-...</td>\n",
       "      <td>the fascinating case for eating lab grown meat</td>\n",
       "      <td>0</td>\n",
       "    </tr>\n",
       "    <tr>\n",
       "      <th>7</th>\n",
       "      <td>https://www.huffingtonpost.com/entry/boxed-col...</td>\n",
       "      <td>this ceo will send your kids to school  if you...</td>\n",
       "      <td>0</td>\n",
       "    </tr>\n",
       "    <tr>\n",
       "      <th>8</th>\n",
       "      <td>https://politics.theonion.com/top-snake-handle...</td>\n",
       "      <td>top snake handler leaves sinking huckabee camp...</td>\n",
       "      <td>1</td>\n",
       "    </tr>\n",
       "    <tr>\n",
       "      <th>9</th>\n",
       "      <td>https://www.huffingtonpost.com/entry/fridays-m...</td>\n",
       "      <td>friday s morning email  inside trump s presser...</td>\n",
       "      <td>0</td>\n",
       "    </tr>\n",
       "    <tr>\n",
       "      <th>10</th>\n",
       "      <td>https://www.huffingtonpost.com/entry/airline-p...</td>\n",
       "      <td>airline passengers tackle man who rushes cockp...</td>\n",
       "      <td>0</td>\n",
       "    </tr>\n",
       "    <tr>\n",
       "      <th>11</th>\n",
       "      <td>https://www.huffingtonpost.com/entry/facebook-...</td>\n",
       "      <td>facebook reportedly working on healthcare feat...</td>\n",
       "      <td>0</td>\n",
       "    </tr>\n",
       "    <tr>\n",
       "      <th>12</th>\n",
       "      <td>https://www.huffingtonpost.comhttp://www.thegu...</td>\n",
       "      <td>north korea praises trump and urges us voters ...</td>\n",
       "      <td>0</td>\n",
       "    </tr>\n",
       "    <tr>\n",
       "      <th>13</th>\n",
       "      <td>https://www.huffingtonpost.com/entry/jeffrey-l...</td>\n",
       "      <td>actually  cnn s jeffrey lord has been  indefen...</td>\n",
       "      <td>0</td>\n",
       "    </tr>\n",
       "    <tr>\n",
       "      <th>14</th>\n",
       "      <td>https://www.huffingtonpost.com/entry/barcelona...</td>\n",
       "      <td>barcelona holds huge protest in support of ref...</td>\n",
       "      <td>0</td>\n",
       "    </tr>\n",
       "    <tr>\n",
       "      <th>15</th>\n",
       "      <td>https://entertainment.theonion.com/nuclear-bom...</td>\n",
       "      <td>nuclear bomb detonates during rehearsal for  s...</td>\n",
       "      <td>1</td>\n",
       "    </tr>\n",
       "    <tr>\n",
       "      <th>16</th>\n",
       "      <td>https://www.theonion.com/cosby-lawyer-asks-why...</td>\n",
       "      <td>cosby lawyer asks why accusers didn t come for...</td>\n",
       "      <td>1</td>\n",
       "    </tr>\n",
       "    <tr>\n",
       "      <th>17</th>\n",
       "      <td>https://www.theonion.com/stock-analysts-confus...</td>\n",
       "      <td>stock analysts confused  frightened by boar ma...</td>\n",
       "      <td>1</td>\n",
       "    </tr>\n",
       "    <tr>\n",
       "      <th>18</th>\n",
       "      <td>https://www.huffingtonpost.com/entry/bloomberg...</td>\n",
       "      <td>bloomberg s program to build better cities jus...</td>\n",
       "      <td>0</td>\n",
       "    </tr>\n",
       "    <tr>\n",
       "      <th>19</th>\n",
       "      <td>https://www.huffingtonpost.com/entry/craig-hic...</td>\n",
       "      <td>craig hicks indicted</td>\n",
       "      <td>0</td>\n",
       "    </tr>\n",
       "    <tr>\n",
       "      <th>20</th>\n",
       "      <td>https://local.theonion.com/courtroom-sketch-ar...</td>\n",
       "      <td>courtroom sketch artist has clear manga influe...</td>\n",
       "      <td>1</td>\n",
       "    </tr>\n",
       "    <tr>\n",
       "      <th>21</th>\n",
       "      <td>https://politics.theonion.com/trump-assures-na...</td>\n",
       "      <td>trump assures nation that decision for syrian ...</td>\n",
       "      <td>1</td>\n",
       "    </tr>\n",
       "    <tr>\n",
       "      <th>22</th>\n",
       "      <td>https://www.huffingtonpost.com/entry/qatar-dut...</td>\n",
       "      <td>qatar deporting dutch woman who reported she w...</td>\n",
       "      <td>0</td>\n",
       "    </tr>\n",
       "    <tr>\n",
       "      <th>23</th>\n",
       "      <td>https://www.huffingtonpost.comhttp://pubx.co/d...</td>\n",
       "      <td>this is why you shouldn t go to the circus</td>\n",
       "      <td>0</td>\n",
       "    </tr>\n",
       "    <tr>\n",
       "      <th>24</th>\n",
       "      <td>https://www.huffingtonpost.com/entry/ted-cruz-...</td>\n",
       "      <td>ted cruz hits the panic button   we could lose...</td>\n",
       "      <td>0</td>\n",
       "    </tr>\n",
       "    <tr>\n",
       "      <th>25</th>\n",
       "      <td>https://www.huffingtonpost.com/entry/why-write...</td>\n",
       "      <td>why writers must plan to be surprised</td>\n",
       "      <td>0</td>\n",
       "    </tr>\n",
       "    <tr>\n",
       "      <th>26</th>\n",
       "      <td>https://www.huffingtonpost.com/entry/obama-vet...</td>\n",
       "      <td>obama visits arlington national cemetery to ho...</td>\n",
       "      <td>0</td>\n",
       "    </tr>\n",
       "    <tr>\n",
       "      <th>27</th>\n",
       "      <td>https://local.theonion.com/ex-con-back-behind-...</td>\n",
       "      <td>ex con back behind bar</td>\n",
       "      <td>1</td>\n",
       "    </tr>\n",
       "    <tr>\n",
       "      <th>28</th>\n",
       "      <td>https://www.theonion.com/after-careful-conside...</td>\n",
       "      <td>after careful consideration  bush recommends o...</td>\n",
       "      <td>1</td>\n",
       "    </tr>\n",
       "    <tr>\n",
       "      <th>29</th>\n",
       "      <td>https://www.huffingtonpost.com/entry/remembran...</td>\n",
       "      <td>remembrance is the beginning of the task</td>\n",
       "      <td>0</td>\n",
       "    </tr>\n",
       "    <tr>\n",
       "      <th>...</th>\n",
       "      <td>...</td>\n",
       "      <td>...</td>\n",
       "      <td>...</td>\n",
       "    </tr>\n",
       "    <tr>\n",
       "      <th>26679</th>\n",
       "      <td>https://www.huffingtonpost.com/entry/un-syria-...</td>\n",
       "      <td>un opcw report blames syria government  islami...</td>\n",
       "      <td>0</td>\n",
       "    </tr>\n",
       "    <tr>\n",
       "      <th>26680</th>\n",
       "      <td>https://www.theonion.com/kim-jong-un-s-absence...</td>\n",
       "      <td>kim jong un s absence leaves north korean gove...</td>\n",
       "      <td>1</td>\n",
       "    </tr>\n",
       "    <tr>\n",
       "      <th>26681</th>\n",
       "      <td>https://www.huffingtonpost.comhttp://pubx.co/M...</td>\n",
       "      <td>dog born with odds stacked against her found j...</td>\n",
       "      <td>0</td>\n",
       "    </tr>\n",
       "    <tr>\n",
       "      <th>26682</th>\n",
       "      <td>https://www.huffingtonpost.com/entry/american-...</td>\n",
       "      <td>american dream week a smashing  mostly uninves...</td>\n",
       "      <td>0</td>\n",
       "    </tr>\n",
       "    <tr>\n",
       "      <th>26683</th>\n",
       "      <td>https://www.theonion.com/complete-idiot-forgot...</td>\n",
       "      <td>complete idiot forgot to shave area between mo...</td>\n",
       "      <td>1</td>\n",
       "    </tr>\n",
       "    <tr>\n",
       "      <th>26684</th>\n",
       "      <td>https://politics.theonion.com/retreating-clint...</td>\n",
       "      <td>retreating clinton campaign torches iowa town ...</td>\n",
       "      <td>1</td>\n",
       "    </tr>\n",
       "    <tr>\n",
       "      <th>26685</th>\n",
       "      <td>https://local.theonion.com/dont-nobody-wanna-h...</td>\n",
       "      <td>don t nobody wanna hear area man run his mouth</td>\n",
       "      <td>1</td>\n",
       "    </tr>\n",
       "    <tr>\n",
       "      <th>26686</th>\n",
       "      <td>https://www.theonion.com/48-syrian-civilians-m...</td>\n",
       "      <td>syrian civilians massacred during claire da...</td>\n",
       "      <td>1</td>\n",
       "    </tr>\n",
       "    <tr>\n",
       "      <th>26687</th>\n",
       "      <td>https://www.huffingtonpost.com/entry/readin-re...</td>\n",
       "      <td>readin  researchin  writin  and the tools to m...</td>\n",
       "      <td>0</td>\n",
       "    </tr>\n",
       "    <tr>\n",
       "      <th>26688</th>\n",
       "      <td>https://local.theonion.com/report-uttering-phr...</td>\n",
       "      <td>report  uttering phrase  easy does it  prevent...</td>\n",
       "      <td>1</td>\n",
       "    </tr>\n",
       "    <tr>\n",
       "      <th>26689</th>\n",
       "      <td>https://www.huffingtonpost.com/entry/ted-cruz-...</td>\n",
       "      <td>ted cruz blasts new york times for keeping boo...</td>\n",
       "      <td>0</td>\n",
       "    </tr>\n",
       "    <tr>\n",
       "      <th>26690</th>\n",
       "      <td>https://www.huffingtonpost.com/entry/myanmar-e...</td>\n",
       "      <td>voting underway in myanmar s first free electi...</td>\n",
       "      <td>0</td>\n",
       "    </tr>\n",
       "    <tr>\n",
       "      <th>26691</th>\n",
       "      <td>https://local.theonion.com/ice-cube-thrown-int...</td>\n",
       "      <td>ice cube thrown into sink flies up side like s...</td>\n",
       "      <td>1</td>\n",
       "    </tr>\n",
       "    <tr>\n",
       "      <th>26692</th>\n",
       "      <td>https://www.huffingtonpost.com/entry/video-int...</td>\n",
       "      <td>fisherman s worst nightmare comes true</td>\n",
       "      <td>0</td>\n",
       "    </tr>\n",
       "    <tr>\n",
       "      <th>26693</th>\n",
       "      <td>https://www.theonion.com/new-bailiff-tired-of-...</td>\n",
       "      <td>new bailiff tired of hearing how old bailiff d...</td>\n",
       "      <td>1</td>\n",
       "    </tr>\n",
       "    <tr>\n",
       "      <th>26694</th>\n",
       "      <td>https://www.theonion.com/breaking-the-onion-in...</td>\n",
       "      <td>breaking   the onion  in kill range of boston ...</td>\n",
       "      <td>1</td>\n",
       "    </tr>\n",
       "    <tr>\n",
       "      <th>26695</th>\n",
       "      <td>https://www.theonion.com/seaworld-crowd-applau...</td>\n",
       "      <td>seaworld crowd applauds for dolphin playfully ...</td>\n",
       "      <td>1</td>\n",
       "    </tr>\n",
       "    <tr>\n",
       "      <th>26696</th>\n",
       "      <td>https://www.huffingtonpost.com/entry/zimbabwe-...</td>\n",
       "      <td>zimbabwe s youth defy blackout to organize pro...</td>\n",
       "      <td>0</td>\n",
       "    </tr>\n",
       "    <tr>\n",
       "      <th>26697</th>\n",
       "      <td>https://www.huffingtonpost.com/entry/emma-gonz...</td>\n",
       "      <td>emma gonzalez   one of the biggest threats  to...</td>\n",
       "      <td>0</td>\n",
       "    </tr>\n",
       "    <tr>\n",
       "      <th>26698</th>\n",
       "      <td>https://www.huffingtonpost.com/entry/hackers-b...</td>\n",
       "      <td>hackers breached u s  election agency after vo...</td>\n",
       "      <td>0</td>\n",
       "    </tr>\n",
       "    <tr>\n",
       "      <th>26699</th>\n",
       "      <td>https://www.huffingtonpost.com/entry/leather-l...</td>\n",
       "      <td>what you should buy your  basic  friend  accor...</td>\n",
       "      <td>0</td>\n",
       "    </tr>\n",
       "    <tr>\n",
       "      <th>26700</th>\n",
       "      <td>https://www.huffingtonpost.com/entry/whats-in-...</td>\n",
       "      <td>what s in your mailbox  tips on what to do whe...</td>\n",
       "      <td>0</td>\n",
       "    </tr>\n",
       "    <tr>\n",
       "      <th>26701</th>\n",
       "      <td>https://www.huffingtonpost.com/entry/paul-ryan...</td>\n",
       "      <td>paul ryan is more of a con man than ever</td>\n",
       "      <td>0</td>\n",
       "    </tr>\n",
       "    <tr>\n",
       "      <th>26702</th>\n",
       "      <td>https://politics.theonion.com/pentagon-to-with...</td>\n",
       "      <td>pentagon to withhold budget figures out of res...</td>\n",
       "      <td>1</td>\n",
       "    </tr>\n",
       "    <tr>\n",
       "      <th>26703</th>\n",
       "      <td>https://www.theonion.com/pope-francis-wearing-...</td>\n",
       "      <td>pope francis wearing sweater vestments he got ...</td>\n",
       "      <td>1</td>\n",
       "    </tr>\n",
       "    <tr>\n",
       "      <th>26704</th>\n",
       "      <td>https://www.huffingtonpost.com/entry/american-...</td>\n",
       "      <td>american politics in moral free fall</td>\n",
       "      <td>0</td>\n",
       "    </tr>\n",
       "    <tr>\n",
       "      <th>26705</th>\n",
       "      <td>https://www.huffingtonpost.com/entry/americas-...</td>\n",
       "      <td>america s best    hikes</td>\n",
       "      <td>0</td>\n",
       "    </tr>\n",
       "    <tr>\n",
       "      <th>26706</th>\n",
       "      <td>https://www.huffingtonpost.com/entry/reparatio...</td>\n",
       "      <td>reparations and obama</td>\n",
       "      <td>0</td>\n",
       "    </tr>\n",
       "    <tr>\n",
       "      <th>26707</th>\n",
       "      <td>https://www.huffingtonpost.com/entry/israeli-b...</td>\n",
       "      <td>israeli ban targeting boycott supporters raise...</td>\n",
       "      <td>0</td>\n",
       "    </tr>\n",
       "    <tr>\n",
       "      <th>26708</th>\n",
       "      <td>https://www.huffingtonpost.com/entry/gourmet-g...</td>\n",
       "      <td>gourmet gifts for the foodie</td>\n",
       "      <td>0</td>\n",
       "    </tr>\n",
       "  </tbody>\n",
       "</table>\n",
       "<p>26709 rows × 3 columns</p>\n",
       "</div>"
      ],
      "text/plain": [
       "                                            article_link  \\\n",
       "0      https://www.huffingtonpost.com/entry/versace-b...   \n",
       "1      https://www.huffingtonpost.com/entry/roseanne-...   \n",
       "2      https://local.theonion.com/mom-starting-to-fea...   \n",
       "3      https://politics.theonion.com/boehner-just-wan...   \n",
       "4      https://www.huffingtonpost.com/entry/jk-rowlin...   \n",
       "5      https://www.huffingtonpost.com/entry/advancing...   \n",
       "6      https://www.huffingtonpost.com/entry/how-meat-...   \n",
       "7      https://www.huffingtonpost.com/entry/boxed-col...   \n",
       "8      https://politics.theonion.com/top-snake-handle...   \n",
       "9      https://www.huffingtonpost.com/entry/fridays-m...   \n",
       "10     https://www.huffingtonpost.com/entry/airline-p...   \n",
       "11     https://www.huffingtonpost.com/entry/facebook-...   \n",
       "12     https://www.huffingtonpost.comhttp://www.thegu...   \n",
       "13     https://www.huffingtonpost.com/entry/jeffrey-l...   \n",
       "14     https://www.huffingtonpost.com/entry/barcelona...   \n",
       "15     https://entertainment.theonion.com/nuclear-bom...   \n",
       "16     https://www.theonion.com/cosby-lawyer-asks-why...   \n",
       "17     https://www.theonion.com/stock-analysts-confus...   \n",
       "18     https://www.huffingtonpost.com/entry/bloomberg...   \n",
       "19     https://www.huffingtonpost.com/entry/craig-hic...   \n",
       "20     https://local.theonion.com/courtroom-sketch-ar...   \n",
       "21     https://politics.theonion.com/trump-assures-na...   \n",
       "22     https://www.huffingtonpost.com/entry/qatar-dut...   \n",
       "23     https://www.huffingtonpost.comhttp://pubx.co/d...   \n",
       "24     https://www.huffingtonpost.com/entry/ted-cruz-...   \n",
       "25     https://www.huffingtonpost.com/entry/why-write...   \n",
       "26     https://www.huffingtonpost.com/entry/obama-vet...   \n",
       "27     https://local.theonion.com/ex-con-back-behind-...   \n",
       "28     https://www.theonion.com/after-careful-conside...   \n",
       "29     https://www.huffingtonpost.com/entry/remembran...   \n",
       "...                                                  ...   \n",
       "26679  https://www.huffingtonpost.com/entry/un-syria-...   \n",
       "26680  https://www.theonion.com/kim-jong-un-s-absence...   \n",
       "26681  https://www.huffingtonpost.comhttp://pubx.co/M...   \n",
       "26682  https://www.huffingtonpost.com/entry/american-...   \n",
       "26683  https://www.theonion.com/complete-idiot-forgot...   \n",
       "26684  https://politics.theonion.com/retreating-clint...   \n",
       "26685  https://local.theonion.com/dont-nobody-wanna-h...   \n",
       "26686  https://www.theonion.com/48-syrian-civilians-m...   \n",
       "26687  https://www.huffingtonpost.com/entry/readin-re...   \n",
       "26688  https://local.theonion.com/report-uttering-phr...   \n",
       "26689  https://www.huffingtonpost.com/entry/ted-cruz-...   \n",
       "26690  https://www.huffingtonpost.com/entry/myanmar-e...   \n",
       "26691  https://local.theonion.com/ice-cube-thrown-int...   \n",
       "26692  https://www.huffingtonpost.com/entry/video-int...   \n",
       "26693  https://www.theonion.com/new-bailiff-tired-of-...   \n",
       "26694  https://www.theonion.com/breaking-the-onion-in...   \n",
       "26695  https://www.theonion.com/seaworld-crowd-applau...   \n",
       "26696  https://www.huffingtonpost.com/entry/zimbabwe-...   \n",
       "26697  https://www.huffingtonpost.com/entry/emma-gonz...   \n",
       "26698  https://www.huffingtonpost.com/entry/hackers-b...   \n",
       "26699  https://www.huffingtonpost.com/entry/leather-l...   \n",
       "26700  https://www.huffingtonpost.com/entry/whats-in-...   \n",
       "26701  https://www.huffingtonpost.com/entry/paul-ryan...   \n",
       "26702  https://politics.theonion.com/pentagon-to-with...   \n",
       "26703  https://www.theonion.com/pope-francis-wearing-...   \n",
       "26704  https://www.huffingtonpost.com/entry/american-...   \n",
       "26705  https://www.huffingtonpost.com/entry/americas-...   \n",
       "26706  https://www.huffingtonpost.com/entry/reparatio...   \n",
       "26707  https://www.huffingtonpost.com/entry/israeli-b...   \n",
       "26708  https://www.huffingtonpost.com/entry/gourmet-g...   \n",
       "\n",
       "                                                headline  is_sarcastic  \n",
       "0      former versace store clerk sues over secret  b...             0  \n",
       "1      the  roseanne  revival catches up to our thorn...             0  \n",
       "2      mom starting to fear son s web series closest ...             1  \n",
       "3      boehner just wants wife to listen  not come up...             1  \n",
       "4      j k  rowling wishes snape happy birthday in th...             0  \n",
       "5                            advancing the world s women             0  \n",
       "6         the fascinating case for eating lab grown meat             0  \n",
       "7      this ceo will send your kids to school  if you...             0  \n",
       "8      top snake handler leaves sinking huckabee camp...             1  \n",
       "9      friday s morning email  inside trump s presser...             0  \n",
       "10     airline passengers tackle man who rushes cockp...             0  \n",
       "11     facebook reportedly working on healthcare feat...             0  \n",
       "12     north korea praises trump and urges us voters ...             0  \n",
       "13     actually  cnn s jeffrey lord has been  indefen...             0  \n",
       "14     barcelona holds huge protest in support of ref...             0  \n",
       "15     nuclear bomb detonates during rehearsal for  s...             1  \n",
       "16     cosby lawyer asks why accusers didn t come for...             1  \n",
       "17     stock analysts confused  frightened by boar ma...             1  \n",
       "18     bloomberg s program to build better cities jus...             0  \n",
       "19                                  craig hicks indicted             0  \n",
       "20     courtroom sketch artist has clear manga influe...             1  \n",
       "21     trump assures nation that decision for syrian ...             1  \n",
       "22     qatar deporting dutch woman who reported she w...             0  \n",
       "23            this is why you shouldn t go to the circus             0  \n",
       "24     ted cruz hits the panic button   we could lose...             0  \n",
       "25                 why writers must plan to be surprised             0  \n",
       "26     obama visits arlington national cemetery to ho...             0  \n",
       "27                                ex con back behind bar             1  \n",
       "28     after careful consideration  bush recommends o...             1  \n",
       "29              remembrance is the beginning of the task             0  \n",
       "...                                                  ...           ...  \n",
       "26679  un opcw report blames syria government  islami...             0  \n",
       "26680  kim jong un s absence leaves north korean gove...             1  \n",
       "26681  dog born with odds stacked against her found j...             0  \n",
       "26682  american dream week a smashing  mostly uninves...             0  \n",
       "26683  complete idiot forgot to shave area between mo...             1  \n",
       "26684  retreating clinton campaign torches iowa town ...             1  \n",
       "26685     don t nobody wanna hear area man run his mouth             1  \n",
       "26686     syrian civilians massacred during claire da...             1  \n",
       "26687  readin  researchin  writin  and the tools to m...             0  \n",
       "26688  report  uttering phrase  easy does it  prevent...             1  \n",
       "26689  ted cruz blasts new york times for keeping boo...             0  \n",
       "26690  voting underway in myanmar s first free electi...             0  \n",
       "26691  ice cube thrown into sink flies up side like s...             1  \n",
       "26692             fisherman s worst nightmare comes true             0  \n",
       "26693  new bailiff tired of hearing how old bailiff d...             1  \n",
       "26694  breaking   the onion  in kill range of boston ...             1  \n",
       "26695  seaworld crowd applauds for dolphin playfully ...             1  \n",
       "26696  zimbabwe s youth defy blackout to organize pro...             0  \n",
       "26697  emma gonzalez   one of the biggest threats  to...             0  \n",
       "26698  hackers breached u s  election agency after vo...             0  \n",
       "26699  what you should buy your  basic  friend  accor...             0  \n",
       "26700  what s in your mailbox  tips on what to do whe...             0  \n",
       "26701           paul ryan is more of a con man than ever             0  \n",
       "26702  pentagon to withhold budget figures out of res...             1  \n",
       "26703  pope francis wearing sweater vestments he got ...             1  \n",
       "26704               american politics in moral free fall             0  \n",
       "26705                            america s best    hikes             0  \n",
       "26706                              reparations and obama             0  \n",
       "26707  israeli ban targeting boycott supporters raise...             0  \n",
       "26708                  gourmet gifts for the foodie                  0  \n",
       "\n",
       "[26709 rows x 3 columns]"
      ]
     },
     "execution_count": 37,
     "metadata": {},
     "output_type": "execute_result"
    }
   ],
   "source": [
    "data"
   ]
  },
  {
   "cell_type": "code",
   "execution_count": 65,
   "metadata": {},
   "outputs": [
    {
     "data": {
      "text/plain": [
       "(14985, 11724)"
      ]
     },
     "execution_count": 65,
     "metadata": {},
     "output_type": "execute_result"
    }
   ],
   "source": [
    "len(data[data.is_sarcastic==0]), len(data[data.is_sarcastic==1])"
   ]
  },
  {
   "cell_type": "code",
   "execution_count": 38,
   "metadata": {},
   "outputs": [],
   "source": [
    "# getting features and labels\n",
    "features = data['headline']\n",
    "labels = data['is_sarcastic']"
   ]
  },
  {
   "cell_type": "code",
   "execution_count": 39,
   "metadata": {
    "scrolled": true
   },
   "outputs": [
    {
     "data": {
      "text/plain": [
       "0    former versace store clerk sues over secret  b...\n",
       "1    the  roseanne  revival catches up to our thorn...\n",
       "2    mom starting to fear son s web series closest ...\n",
       "3    boehner just wants wife to listen  not come up...\n",
       "Name: headline, dtype: object"
      ]
     },
     "execution_count": 39,
     "metadata": {},
     "output_type": "execute_result"
    }
   ],
   "source": [
    "features[:4]"
   ]
  },
  {
   "cell_type": "code",
   "execution_count": 40,
   "metadata": {},
   "outputs": [],
   "source": [
    "# Stemming our data\n",
    "ps = PorterStemmer()\n",
    "features = features.apply(lambda x: x.split())\n",
    "features = features.apply(lambda x : \" \".join([ps.stem(word) for word in x]))"
   ]
  },
  {
   "cell_type": "code",
   "execution_count": 66,
   "metadata": {
    "scrolled": true
   },
   "outputs": [
    {
     "data": {
      "text/plain": [
       "'hey there. what are you up to? too mani peopl are consid to leave.'"
      ]
     },
     "execution_count": 66,
     "metadata": {},
     "output_type": "execute_result"
    }
   ],
   "source": [
    "example = \"Hey there. What are you up to? Too many people are considering to leave.\"\n",
    "example = \" \".join(ps.stem(word) for word in example.split())\n",
    "example"
   ]
  },
  {
   "cell_type": "code",
   "execution_count": 42,
   "metadata": {},
   "outputs": [
    {
     "name": "stderr",
     "output_type": "stream",
     "text": [
      "/Users/ekremguzelyel/anaconda/lib/python3.6/site-packages/sklearn/feature_extraction/text.py:1059: FutureWarning: Conversion of the second argument of issubdtype from `float` to `np.floating` is deprecated. In future, it will be treated as `np.float64 == np.dtype(float).type`.\n",
      "  if hasattr(X, 'dtype') and np.issubdtype(X.dtype, np.float):\n"
     ]
    },
    {
     "data": {
      "text/plain": [
       "array([[0., 0., 0., ..., 0., 0., 0.]])"
      ]
     },
     "execution_count": 42,
     "metadata": {},
     "output_type": "execute_result"
    }
   ],
   "source": [
    "[example]\n",
    "tv.transform([example]).toarray()"
   ]
  },
  {
   "cell_type": "code",
   "execution_count": 43,
   "metadata": {},
   "outputs": [
    {
     "name": "stderr",
     "output_type": "stream",
     "text": [
      "/Users/ekremguzelyel/anaconda/lib/python3.6/site-packages/sklearn/feature_extraction/text.py:1059: FutureWarning: Conversion of the second argument of issubdtype from `float` to `np.floating` is deprecated. In future, it will be treated as `np.float64 == np.dtype(float).type`.\n",
      "  if hasattr(X, 'dtype') and np.issubdtype(X.dtype, np.float):\n"
     ]
    }
   ],
   "source": [
    "# vectorizing the data with maximum of 5000 features\n",
    "from sklearn.feature_extraction.text import TfidfVectorizer\n",
    "tv = TfidfVectorizer(max_features = 5000)\n",
    "features = list(features)\n",
    "features = tv.fit_transform(features).toarray()"
   ]
  },
  {
   "cell_type": "code",
   "execution_count": 44,
   "metadata": {},
   "outputs": [],
   "source": [
    "# getting training and testing data\n",
    "features_train, features_test, labels_train, labels_test = train_test_split(features, labels, test_size = .05, random_state = 0)"
   ]
  },
  {
   "cell_type": "code",
   "execution_count": 45,
   "metadata": {
    "scrolled": true
   },
   "outputs": [
    {
     "name": "stdout",
     "output_type": "stream",
     "text": [
      "0.9093524612777362\n",
      "0.8375748502994012\n"
     ]
    }
   ],
   "source": [
    "# Using linear support vector classifier\n",
    "lsvc = LinearSVC()\n",
    "\n",
    "# CalibratedSVM classifier for the prediction probabilities\n",
    "clf = CalibratedClassifierCV(svm) \n",
    "clf.fit(features_train, labels_train)\n",
    "y_proba = clf.predict_proba(features_test)\n",
    "\n",
    "# training the model\n",
    "lsvc.fit(features_train, labels_train)\n",
    "# getting the score of train and test data\n",
    "print(lsvc.score(features_train, labels_train)) # 90.93\n",
    "print(lsvc.score(features_test, labels_test))   # 83.75"
   ]
  },
  {
   "cell_type": "code",
   "execution_count": 85,
   "metadata": {},
   "outputs": [
    {
     "data": {
      "text/plain": [
       "array([[0.32386567, 0.67613433],\n",
       "       [0.15802251, 0.84197749],\n",
       "       [0.05776573, 0.94223427],\n",
       "       ...,\n",
       "       [0.93537021, 0.06462979],\n",
       "       [0.98041633, 0.01958367],\n",
       "       [0.87724721, 0.12275279]])"
      ]
     },
     "execution_count": 85,
     "metadata": {},
     "output_type": "execute_result"
    }
   ],
   "source": [
    "# Using linear support vector classifier\n",
    "lsvc = LinearSVC()\n",
    "# CalibratedSVM classifier for the prediction probabilities\n",
    "clf = CalibratedClassifierCV(lsvc) \n",
    "# Training the model\n",
    "clf.fit(features_train, labels_train)\n",
    "# Predictions\n",
    "train_proba = clf.predict_proba(features_train)\n",
    "test_proba = clf.predict_proba(features_test)\n",
    "test_proba"
   ]
  },
  {
   "cell_type": "code",
   "execution_count": 87,
   "metadata": {},
   "outputs": [
    {
     "data": {
      "text/plain": [
       "[1, 1, 1, 0, 0, 0, 1, 0, 0, 0]"
      ]
     },
     "execution_count": 87,
     "metadata": {},
     "output_type": "execute_result"
    }
   ],
   "source": [
    "threshold = 0.5\n",
    "train_probs = [0 if i[0]>threshold else 1 for i in train_proba]\n",
    "test_probs = [0 if i[0]>threshold else 1 for i in test_proba]\n",
    "test_probs[:10]"
   ]
  },
  {
   "cell_type": "code",
   "execution_count": 95,
   "metadata": {},
   "outputs": [
    {
     "name": "stdout",
     "output_type": "stream",
     "text": [
      "(0.9052545968963728, 0.9053324399952706, 0.9052165944284256, None)\n",
      "(0.8320514448619291, 0.8323353293413174, 0.8320724625839245, None)\n"
     ]
    }
   ],
   "source": [
    "# getting the score of train and test data\n",
    "train_scores = precision_recall_fscore_support(labels_train, train_probs, average='weighted') # 90.52%\n",
    "test_scores = precision_recall_fscore_support(labels_test, test_probs, average='weighted') # 83.20%\n",
    "print(train_scores)\n",
    "print(test_scores)"
   ]
  },
  {
   "cell_type": "code",
   "execution_count": 46,
   "metadata": {
    "scrolled": true
   },
   "outputs": [
    {
     "name": "stderr",
     "output_type": "stream",
     "text": [
      "/Users/ekremguzelyel/anaconda/lib/python3.6/site-packages/sklearn/feature_extraction/text.py:1059: FutureWarning: Conversion of the second argument of issubdtype from `float` to `np.floating` is deprecated. In future, it will be treated as `np.float64 == np.dtype(float).type`.\n",
      "  if hasattr(X, 'dtype') and np.issubdtype(X.dtype, np.float):\n"
     ]
    },
    {
     "data": {
      "text/plain": [
       "array([[0., 0., 0., ..., 0., 0., 0.]])"
      ]
     },
     "execution_count": 46,
     "metadata": {},
     "output_type": "execute_result"
    }
   ],
   "source": [
    "tv.transform([\"Hey there. What are you up to?\"]).toarray()"
   ]
  },
  {
   "cell_type": "code",
   "execution_count": 56,
   "metadata": {
    "scrolled": true
   },
   "outputs": [
    {
     "name": "stderr",
     "output_type": "stream",
     "text": [
      "/Users/ekremguzelyel/anaconda/lib/python3.6/site-packages/sklearn/feature_extraction/text.py:1059: FutureWarning: Conversion of the second argument of issubdtype from `float` to `np.floating` is deprecated. In future, it will be treated as `np.float64 == np.dtype(float).type`.\n",
      "  if hasattr(X, 'dtype') and np.issubdtype(X.dtype, np.float):\n"
     ]
    },
    {
     "data": {
      "text/plain": [
       "1.0"
      ]
     },
     "execution_count": 56,
     "metadata": {},
     "output_type": "execute_result"
    }
   ],
   "source": [
    "lsvc.score(tv.transform([\"Hey there. What are you up to?\"]), [0])"
   ]
  },
  {
   "cell_type": "code",
   "execution_count": 53,
   "metadata": {},
   "outputs": [
    {
     "name": "stderr",
     "output_type": "stream",
     "text": [
      "/Users/ekremguzelyel/anaconda/lib/python3.6/site-packages/sklearn/feature_extraction/text.py:1059: FutureWarning: Conversion of the second argument of issubdtype from `float` to `np.floating` is deprecated. In future, it will be treated as `np.float64 == np.dtype(float).type`.\n",
      "  if hasattr(X, 'dtype') and np.issubdtype(X.dtype, np.float):\n"
     ]
    },
    {
     "data": {
      "text/plain": [
       "array([0])"
      ]
     },
     "execution_count": 53,
     "metadata": {},
     "output_type": "execute_result"
    }
   ],
   "source": [
    "lsvc.predict(tv.transform([\"I had an enormoous lunch this evening for make this 'important' call\"]))\n",
    "# slvc.predict_proba()"
   ]
  },
  {
   "cell_type": "code",
   "execution_count": 92,
   "metadata": {},
   "outputs": [
    {
     "name": "stderr",
     "output_type": "stream",
     "text": [
      "/Users/ekremguzelyel/anaconda/lib/python3.6/site-packages/sklearn/feature_extraction/text.py:1059: FutureWarning: Conversion of the second argument of issubdtype from `float` to `np.floating` is deprecated. In future, it will be treated as `np.float64 == np.dtype(float).type`.\n",
      "  if hasattr(X, 'dtype') and np.issubdtype(X.dtype, np.float):\n"
     ]
    }
   ],
   "source": [
    "transformed_word = tv.transform([\"I will take this point to the heart.\", \"I got shot\", \"As if you meant that\"])\n",
    "# print(lsvc.predict(transformed_word))\n",
    "# print(lsvc.decision_function(transformed_word))"
   ]
  },
  {
   "cell_type": "markdown",
   "metadata": {},
   "source": [
    "__Now that we trained a prediction probability classifier__"
   ]
  },
  {
   "cell_type": "code",
   "execution_count": 93,
   "metadata": {},
   "outputs": [
    {
     "data": {
      "text/plain": [
       "array([[0.80901038, 0.19098962],\n",
       "       [0.72472804, 0.27527196],\n",
       "       [0.37193294, 0.62806706]])"
      ]
     },
     "execution_count": 93,
     "metadata": {},
     "output_type": "execute_result"
    }
   ],
   "source": [
    "clf.predict_proba(transformed_word)"
   ]
  },
  {
   "cell_type": "code",
   "execution_count": 100,
   "metadata": {},
   "outputs": [],
   "source": [
    "# Save models, transformers, results\n",
    "model_transform_results = [clf, tv, (train_scores, test_scores)]\n",
    "pk.dump(model_transform_results, open(\"model_transform_results.pk\", \"wb\"))"
   ]
  },
  {
   "cell_type": "code",
   "execution_count": 102,
   "metadata": {},
   "outputs": [
    {
     "data": {
      "text/plain": [
       "[CalibratedClassifierCV(base_estimator=LinearSVC(C=1.0, class_weight=None, dual=True, fit_intercept=True,\n",
       "      intercept_scaling=1, loss='squared_hinge', max_iter=1000,\n",
       "      multi_class='ovr', penalty='l2', random_state=None, tol=0.0001,\n",
       "      verbose=0),\n",
       "             cv=3, method='sigmoid'),\n",
       " TfidfVectorizer(analyzer='word', binary=False, decode_error='strict',\n",
       "         dtype=<class 'numpy.int64'>, encoding='utf-8', input='content',\n",
       "         lowercase=True, max_df=1.0, max_features=5000, min_df=1,\n",
       "         ngram_range=(1, 1), norm='l2', preprocessor=None, smooth_idf=True,\n",
       "         stop_words=None, strip_accents=None, sublinear_tf=False,\n",
       "         token_pattern='(?u)\\\\b\\\\w\\\\w+\\\\b', tokenizer=None, use_idf=True,\n",
       "         vocabulary=None),\n",
       " ((0.9052545968963728, 0.9053324399952706, 0.9052165944284256, None),\n",
       "  (0.8320514448619291, 0.8323353293413174, 0.8320724625839245, None))]"
      ]
     },
     "execution_count": 102,
     "metadata": {},
     "output_type": "execute_result"
    }
   ],
   "source": [
    "# Load the model to test\n",
    "load_test = pk.load(open(\"model_transform_results.pk\", \"rb\"))\n",
    "load_test"
   ]
  }
 ],
 "metadata": {
  "kernelspec": {
   "display_name": "Python 3",
   "language": "python",
   "name": "python3"
  },
  "language_info": {
   "codemirror_mode": {
    "name": "ipython",
    "version": 3
   },
   "file_extension": ".py",
   "mimetype": "text/x-python",
   "name": "python",
   "nbconvert_exporter": "python",
   "pygments_lexer": "ipython3",
   "version": "3.6.5"
  }
 },
 "nbformat": 4,
 "nbformat_minor": 2
}
