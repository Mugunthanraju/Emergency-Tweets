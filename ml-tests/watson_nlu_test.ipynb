{
 "cells": [
  {
   "cell_type": "code",
   "execution_count": 1,
   "metadata": {},
   "outputs": [],
   "source": [
    "import json\n",
    "from ibm_watson import NaturalLanguageUnderstandingV1\n",
    "from ibm_cloud_sdk_core.authenticators import IAMAuthenticator\n",
    "from ibm_watson.natural_language_understanding_v1 import Features, EmotionOptions, SentimentOptions, KeywordsOptions\n",
    "# from .. import credentials_path\n",
    "import config"
   ]
  },
  {
   "cell_type": "code",
   "execution_count": 2,
   "metadata": {},
   "outputs": [],
   "source": [
    "def get_ibm_nlu():\n",
    "    \"\"\" Constructs an instance of NaturalLanguageUnderstandingV1 using the tokens in the file\n",
    "    at credentials_path\n",
    "    Returns:\n",
    "        An instance of NaturalLanguageUnderstandingV1\n",
    "    \"\"\"\n",
    "    authenticator = IAMAuthenticator(config.watson_api_key)\n",
    "    nlu = NaturalLanguageUnderstandingV1(\n",
    "        version='2019-07-12',\n",
    "        authenticator=authenticator\n",
    "    )\n",
    "    nlu.set_service_url(config.watson_service_url)\n",
    "    return nlu"
   ]
  },
  {
   "cell_type": "code",
   "execution_count": 3,
   "metadata": {},
   "outputs": [],
   "source": [
    "nlu_api = get_ibm_nlu()"
   ]
  },
  {
   "cell_type": "code",
   "execution_count": 4,
   "metadata": {},
   "outputs": [],
   "source": [
    "def sentiment_analysis(input_text, nlu):\n",
    "    \"\"\"\n",
    "    Args:\n",
    "    input_text .... The plain text of a tweet for a candidate\n",
    "    nlu ... The natural language understanding tool from IBM Watson\n",
    "    Returns:\n",
    "    A python dictionary mapping the tweet text to all of the sentiment scores\n",
    "    \"\"\"\n",
    "    tweet_score = nlu.analyze(text=input_text, features=Features(\n",
    "        emotion=EmotionOptions(),\n",
    "        sentiment=SentimentOptions(),\n",
    "        keywords=KeywordsOptions()),\n",
    "        language='en').get_result()\n",
    "    return tweet_score"
   ]
  },
  {
   "cell_type": "code",
   "execution_count": 9,
   "metadata": {},
   "outputs": [
    {
     "data": {
      "text/plain": [
       "{'emotion': {'document': {'emotion': {'anger': 0.026052,\n",
       "    'disgust': 0.00719,\n",
       "    'fear': 0.719166,\n",
       "    'joy': 0.014699,\n",
       "    'sadness': 0.115116}}},\n",
       " 'keywords': [{'count': 1, 'relevance': 0.775061, 'text': 'help'}],\n",
       " 'language': 'en',\n",
       " 'sentiment': {'document': {'label': 'negative', 'score': -0.984533}},\n",
       " 'usage': {'features': 3, 'text_characters': 43, 'text_units': 1}}"
      ]
     },
     "execution_count": 9,
     "metadata": {},
     "output_type": "execute_result"
    }
   ],
   "source": [
    "sentiment_analysis(\"I need help. Please heelp. I'm scared. #911\", nlu_api)"
   ]
  },
  {
   "cell_type": "code",
   "execution_count": 5,
   "metadata": {},
   "outputs": [],
   "source": [
    "def sentiment_analysis_list(tweets_list, nlu):\n",
    "    \"\"\"\n",
    "    Args:\n",
    "      tweets_list .... The plain text list of tweets for a candidate\n",
    "      nlu ... The natural language understanding tool from IBM Watson\n",
    "    Returns:\n",
    "      A python dictionary mapping the tweet text to all of the sentiment scores\n",
    "    \"\"\"\n",
    "    senti_scores = {}\n",
    "    for i, tweet in enumerate(tweets_list):\n",
    "        try:\n",
    "            tweet_scores = nlu.analyze(text=tweets_list[i], features=Features(\n",
    "                emotion=EmotionOptions(),\n",
    "                sentiment=SentimentOptions(),\n",
    "                keywords=KeywordsOptions()), language='en').get_result()\n",
    "            senti_scores[tweet] = tweet_scores\n",
    "        except:\n",
    "            senti_scores[tweet] = 'N/A, could not parse'\n",
    "    return senti_scores"
   ]
  }
 ],
 "metadata": {
  "kernelspec": {
   "display_name": "Python 3",
   "language": "python",
   "name": "python3"
  },
  "language_info": {
   "codemirror_mode": {
    "name": "ipython",
    "version": 3
   },
   "file_extension": ".py",
   "mimetype": "text/x-python",
   "name": "python",
   "nbconvert_exporter": "python",
   "pygments_lexer": "ipython3",
   "version": "3.6.5"
  }
 },
 "nbformat": 4,
 "nbformat_minor": 2
}
