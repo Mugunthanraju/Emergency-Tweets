{
 "cells": [
  {
   "cell_type": "code",
   "execution_count": 10,
   "metadata": {},
   "outputs": [],
   "source": [
    "import json\n",
    "from ibm_watson import NaturalLanguageUnderstandingV1\n",
    "from ibm_cloud_sdk_core.authenticators import IAMAuthenticator\n",
    "from ibm_watson.natural_language_understanding_v1 import Features, EmotionOptions, SentimentOptions, KeywordsOptions\n",
    "# from .. import credentials_path\n",
    "import sys\n",
    "sys.path.append(\"..\")\n",
    "import config"
   ]
  },
  {
   "cell_type": "code",
   "execution_count": 11,
   "metadata": {},
   "outputs": [],
   "source": [
    "def get_ibm_nlu():\n",
    "    \"\"\" Constructs an instance of NaturalLanguageUnderstandingV1 using the tokens in the file\n",
    "    at credentials_path\n",
    "    Returns:\n",
    "        An instance of NaturalLanguageUnderstandingV1\n",
    "    \"\"\"\n",
    "    authenticator = IAMAuthenticator(config.watson_api_key)\n",
    "    nlu = NaturalLanguageUnderstandingV1(\n",
    "        version='2019-07-12',\n",
    "        authenticator=authenticator\n",
    "    )\n",
    "    nlu.set_service_url(config.watson_service_url)\n",
    "    return nlu"
   ]
  },
  {
   "cell_type": "code",
   "execution_count": 34,
   "metadata": {},
   "outputs": [],
   "source": [
    "nlu_api = get_ibm_nlu()"
   ]
  },
  {
   "cell_type": "code",
   "execution_count": 13,
   "metadata": {},
   "outputs": [],
   "source": [
    "def sentiment_analysis(input_text, nlu):\n",
    "    \"\"\"\n",
    "    Args:\n",
    "    input_text .... The plain text of a tweet for a candidate\n",
    "    nlu ... The natural language understanding tool from IBM Watson\n",
    "    Returns:\n",
    "    A python dictionary mapping the tweet text to all of the sentiment scores\n",
    "    \"\"\"\n",
    "    tweet_score = nlu.analyze(text=input_text, features=Features(\n",
    "        emotion=EmotionOptions(),\n",
    "        sentiment=SentimentOptions(),\n",
    "        keywords=KeywordsOptions()),\n",
    "        language='en').get_result()\n",
    "    return tweet_score"
   ]
  },
  {
   "cell_type": "code",
   "execution_count": 14,
   "metadata": {},
   "outputs": [
    {
     "data": {
      "text/plain": [
       "{'emotion': {'document': {'emotion': {'anger': 0.026052,\n",
       "    'disgust': 0.00719,\n",
       "    'fear': 0.719166,\n",
       "    'joy': 0.014699,\n",
       "    'sadness': 0.115116}}},\n",
       " 'keywords': [{'count': 1, 'relevance': 0.775061, 'text': 'help'}],\n",
       " 'language': 'en',\n",
       " 'sentiment': {'document': {'label': 'negative', 'score': -0.984533}},\n",
       " 'usage': {'features': 3, 'text_characters': 43, 'text_units': 1}}"
      ]
     },
     "execution_count": 14,
     "metadata": {},
     "output_type": "execute_result"
    }
   ],
   "source": [
    "sentiment_analysis(\"I need help. Please heelp. I'm scared. #911\", nlu_api)"
   ]
  },
  {
   "cell_type": "code",
   "execution_count": 5,
   "metadata": {},
   "outputs": [],
   "source": [
    "def sentiment_analysis_list(tweets_list, nlu):\n",
    "    \"\"\"\n",
    "    Args:\n",
    "      tweets_list .... The plain text list of tweets for a candidate\n",
    "      nlu ... The natural language understanding tool from IBM Watson\n",
    "    Returns:\n",
    "      A python dictionary mapping the tweet text to all of the sentiment scores\n",
    "    \"\"\"\n",
    "    senti_scores = {}\n",
    "    for i, tweet in enumerate(tweets_list):\n",
    "        try:\n",
    "            tweet_scores = nlu.analyze(text=tweets_list[i], features=Features(\n",
    "                emotion=EmotionOptions(),\n",
    "                sentiment=SentimentOptions(),\n",
    "                keywords=KeywordsOptions()), language='en').get_result()\n",
    "            senti_scores[tweet] = tweet_scores\n",
    "        except:\n",
    "            senti_scores[tweet] = 'N/A, could not parse'\n",
    "    return senti_scores"
   ]
  },
  {
   "cell_type": "code",
   "execution_count": 44,
   "metadata": {},
   "outputs": [
    {
     "data": {
      "text/plain": [
       "{'emotion': {'document': {'emotion': {'anger': 0.072451,\n",
       "    'disgust': 0.272918,\n",
       "    'fear': 0.852308,\n",
       "    'joy': 0.002377,\n",
       "    'sadness': 0.059568}}},\n",
       " 'keywords': [{'count': 1, 'relevance': 0.903788, 'text': 'cops'},\n",
       "  {'count': 1, 'relevance': 0.700506, 'text': 'guy'},\n",
       "  {'count': 1, 'relevance': 0.386169, 'text': 'bleeding'}],\n",
       " 'language': 'en',\n",
       " 'sentiment': {'document': {'label': 'negative', 'score': -0.973419}},\n",
       " 'usage': {'features': 3, 'text_characters': 56, 'text_units': 1}}"
      ]
     },
     "execution_count": 44,
     "metadata": {},
     "output_type": "execute_result"
    }
   ],
   "source": [
    "# sentence = \"I just saw a guy run over a man. Scary! #Police #CPD\" # This is a good example\n",
    "sentence = \"I am so afraid. The cops just shot a guy. He is bleeding\"\n",
    "anlys = sentiment_analysis(sentence, nlu_api)\n",
    "anlys"
   ]
  },
  {
   "cell_type": "code",
   "execution_count": 31,
   "metadata": {},
   "outputs": [
    {
     "data": {
      "text/plain": [
       "{'anger': 0.091166,\n",
       " 'disgust': 0.339515,\n",
       " 'fear': 0.78847,\n",
       " 'joy': 0.020769,\n",
       " 'sadness': 0.064783}"
      ]
     },
     "execution_count": 31,
     "metadata": {},
     "output_type": "execute_result"
    }
   ],
   "source": [
    "anlys['emotion']['document']['emotion']"
   ]
  },
  {
   "cell_type": "code",
   "execution_count": 36,
   "metadata": {},
   "outputs": [],
   "source": [
    "def is_fearful(input_text, nlu):\n",
    "    tweet_score = nlu.analyze(text=input_text, \n",
    "                              features=Features(emotion=EmotionOptions()),language='en').get_result()\n",
    "    return True if tweet_score[\"emotion\"][\"document\"][\"emotion\"][\"fear\"]>0.4 else False"
   ]
  },
  {
   "cell_type": "code",
   "execution_count": 41,
   "metadata": {},
   "outputs": [
    {
     "data": {
      "text/plain": [
       "True"
      ]
     },
     "execution_count": 41,
     "metadata": {},
     "output_type": "execute_result"
    }
   ],
   "source": [
    "is_fearful(sentence, nlu_api)"
   ]
  },
  {
   "cell_type": "code",
   "execution_count": 40,
   "metadata": {},
   "outputs": [],
   "source": [
    "# Putting them as functions\n",
    "import json\n",
    "from ibm_watson import NaturalLanguageUnderstandingV1\n",
    "from ibm_cloud_sdk_core.authenticators import IAMAuthenticator\n",
    "from ibm_watson.natural_language_understanding_v1 import Features, EmotionOptions\n",
    "import sys\n",
    "sys.path.append(\"..\")\n",
    "import config\n",
    "\n",
    "\n",
    "def get_ibm_nlu():\n",
    "    \"\"\" Constructs an instance of NaturalLanguageUnderstandingV1 using the tokens in the file\n",
    "    at credentials_path\n",
    "    Returns:\n",
    "        An instance of NaturalLanguageUnderstandingV1\n",
    "    \"\"\"\n",
    "    authenticator = IAMAuthenticator(config.watson_api_key)\n",
    "    nlu = NaturalLanguageUnderstandingV1(\n",
    "        version='2019-07-12',\n",
    "        authenticator=authenticator\n",
    "    )\n",
    "    nlu.set_service_url(config.watson_service_url)\n",
    "    return nlu\n",
    "\n",
    "def is_fearful(input_text, nlu):\n",
    "    \"\"\" Classifies the text based on the fear level. Above a threshold is fearful. \n",
    "    Returns:\n",
    "        True or False if fear detected\n",
    "    \"\"\"\n",
    "    tweet_score = nlu.analyze(text=input_text, \n",
    "                              features=Features(emotion=EmotionOptions()),language='en').get_result()\n",
    "    return True if tweet_score[\"emotion\"][\"document\"][\"emotion\"][\"fear\"]>0.4 else False"
   ]
  },
  {
   "cell_type": "raw",
   "metadata": {},
   "source": [
    "import pickle as pk\n",
    "pk.dump(nlu_api, open(\"nlu_model.pk\", \"wb\")) # Looks like we can't dump this"
   ]
  },
  {
   "cell_type": "code",
   "execution_count": null,
   "metadata": {},
   "outputs": [],
   "source": [
    "\"I am so afraid. The cops just shot a guy. He is bleeding\""
   ]
  }
 ],
 "metadata": {
  "kernelspec": {
   "display_name": "Python 3",
   "language": "python",
   "name": "python3"
  },
  "language_info": {
   "codemirror_mode": {
    "name": "ipython",
    "version": 3
   },
   "file_extension": ".py",
   "mimetype": "text/x-python",
   "name": "python",
   "nbconvert_exporter": "python",
   "pygments_lexer": "ipython3",
   "version": "3.6.5"
  }
 },
 "nbformat": 4,
 "nbformat_minor": 2
}
